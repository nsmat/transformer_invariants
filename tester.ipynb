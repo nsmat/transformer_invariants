{
 "cells": [
  {
   "cell_type": "markdown",
   "source": [],
   "metadata": {
    "collapsed": false
   }
  },
  {
   "cell_type": "code",
   "execution_count": 1,
   "metadata": {
    "collapsed": true
   },
   "outputs": [],
   "source": [
    "import numpy as np\n",
    "import torch\n",
    "import pandas as pd\n",
    "\n",
    "import matplotlib.pyplot as plt\n",
    "\n",
    "from toy_datasets.rotational_dataset import make_dataset\n",
    "from fourier_utils import fourier_transform_point_function, inverse_transform, Complex"
   ]
  },
  {
   "cell_type": "code",
   "execution_count": 2,
   "outputs": [],
   "source": [
    "dataset = make_dataset(30, 120)"
   ],
   "metadata": {
    "collapsed": false
   }
  },
  {
   "cell_type": "code",
   "execution_count": 3,
   "outputs": [
    {
     "data": {
      "text/plain": "      vertex_id         x         y     theta         h  output_forces  \\\n0             0 -1.560141 -0.277406  1.922177  2.716790     -10.421956   \n1             1  0.813282 -0.271660  1.634235  2.294716      -4.152044   \n2             2 -0.794831 -1.175477  0.442421  1.722231     -19.360492   \n3             3 -0.034902  0.395842  5.606118 -2.051685       1.761875   \n4             4  1.188325  0.635423  1.256443 -0.869312       7.875110   \n...         ...       ...       ...       ...       ...            ...   \n3595        115  0.546015 -0.925103  4.998615 -1.382494      13.538758   \n3596        116 -0.006958  1.127028  1.457582  0.440862     -19.397192   \n3597        117  0.586489  0.131765  0.042519  0.924657      -1.314786   \n3598        118 -2.253071 -2.846456  5.720240  0.243505      22.871471   \n3599        119 -1.021768 -0.301757  4.385412  0.079607      -5.541291   \n\n      graph_id  \n0            0  \n1            0  \n2            0  \n3            0  \n4            0  \n...        ...  \n3595        29  \n3596        29  \n3597        29  \n3598        29  \n3599        29  \n\n[3600 rows x 7 columns]",
      "text/html": "<div>\n<style scoped>\n    .dataframe tbody tr th:only-of-type {\n        vertical-align: middle;\n    }\n\n    .dataframe tbody tr th {\n        vertical-align: top;\n    }\n\n    .dataframe thead th {\n        text-align: right;\n    }\n</style>\n<table border=\"1\" class=\"dataframe\">\n  <thead>\n    <tr style=\"text-align: right;\">\n      <th></th>\n      <th>vertex_id</th>\n      <th>x</th>\n      <th>y</th>\n      <th>theta</th>\n      <th>h</th>\n      <th>output_forces</th>\n      <th>graph_id</th>\n    </tr>\n  </thead>\n  <tbody>\n    <tr>\n      <th>0</th>\n      <td>0</td>\n      <td>-1.560141</td>\n      <td>-0.277406</td>\n      <td>1.922177</td>\n      <td>2.716790</td>\n      <td>-10.421956</td>\n      <td>0</td>\n    </tr>\n    <tr>\n      <th>1</th>\n      <td>1</td>\n      <td>0.813282</td>\n      <td>-0.271660</td>\n      <td>1.634235</td>\n      <td>2.294716</td>\n      <td>-4.152044</td>\n      <td>0</td>\n    </tr>\n    <tr>\n      <th>2</th>\n      <td>2</td>\n      <td>-0.794831</td>\n      <td>-1.175477</td>\n      <td>0.442421</td>\n      <td>1.722231</td>\n      <td>-19.360492</td>\n      <td>0</td>\n    </tr>\n    <tr>\n      <th>3</th>\n      <td>3</td>\n      <td>-0.034902</td>\n      <td>0.395842</td>\n      <td>5.606118</td>\n      <td>-2.051685</td>\n      <td>1.761875</td>\n      <td>0</td>\n    </tr>\n    <tr>\n      <th>4</th>\n      <td>4</td>\n      <td>1.188325</td>\n      <td>0.635423</td>\n      <td>1.256443</td>\n      <td>-0.869312</td>\n      <td>7.875110</td>\n      <td>0</td>\n    </tr>\n    <tr>\n      <th>...</th>\n      <td>...</td>\n      <td>...</td>\n      <td>...</td>\n      <td>...</td>\n      <td>...</td>\n      <td>...</td>\n      <td>...</td>\n    </tr>\n    <tr>\n      <th>3595</th>\n      <td>115</td>\n      <td>0.546015</td>\n      <td>-0.925103</td>\n      <td>4.998615</td>\n      <td>-1.382494</td>\n      <td>13.538758</td>\n      <td>29</td>\n    </tr>\n    <tr>\n      <th>3596</th>\n      <td>116</td>\n      <td>-0.006958</td>\n      <td>1.127028</td>\n      <td>1.457582</td>\n      <td>0.440862</td>\n      <td>-19.397192</td>\n      <td>29</td>\n    </tr>\n    <tr>\n      <th>3597</th>\n      <td>117</td>\n      <td>0.586489</td>\n      <td>0.131765</td>\n      <td>0.042519</td>\n      <td>0.924657</td>\n      <td>-1.314786</td>\n      <td>29</td>\n    </tr>\n    <tr>\n      <th>3598</th>\n      <td>118</td>\n      <td>-2.253071</td>\n      <td>-2.846456</td>\n      <td>5.720240</td>\n      <td>0.243505</td>\n      <td>22.871471</td>\n      <td>29</td>\n    </tr>\n    <tr>\n      <th>3599</th>\n      <td>119</td>\n      <td>-1.021768</td>\n      <td>-0.301757</td>\n      <td>4.385412</td>\n      <td>0.079607</td>\n      <td>-5.541291</td>\n      <td>29</td>\n    </tr>\n  </tbody>\n</table>\n<p>3600 rows × 7 columns</p>\n</div>"
     },
     "execution_count": 3,
     "metadata": {},
     "output_type": "execute_result"
    }
   ],
   "source": [
    "dataset"
   ],
   "metadata": {
    "collapsed": false
   }
  },
  {
   "cell_type": "markdown",
   "source": [
    "### Define a pipeline for casting the raw data to a steerable space"
   ],
   "metadata": {
    "collapsed": false
   }
  },
  {
   "cell_type": "code",
   "execution_count": 4,
   "outputs": [],
   "source": [
    "fourier_precision = 10"
   ],
   "metadata": {
    "collapsed": false
   }
  },
  {
   "cell_type": "code",
   "execution_count": 7,
   "outputs": [],
   "source": [
    "c_outs = []\n",
    "\n",
    "for row_num, row in enumerate(dataset['theta']):\n",
    "    c = fourier_transform_point_function(1, row, precision=fourier_precision)\n",
    "    data = {}\n",
    "    for i, j in c:\n",
    "        i = int(i.real)\n",
    "        data[f'c_{i}'] = j\n",
    "    c_row = pd.DataFrame(data, index=[row_num])\n",
    "    c_outs.append(c_row)\n",
    "coefficients = pd.concat(c_outs)\n",
    "dataset = dataset.merge(coefficients,\n",
    "                        left_index=True,\n",
    "                        right_index=True\n",
    "                        )"
   ],
   "metadata": {
    "collapsed": false
   }
  },
  {
   "cell_type": "markdown",
   "source": [
    "#### Now define a transformer that works on these"
   ],
   "metadata": {
    "collapsed": false
   }
  },
  {
   "cell_type": "code",
   "execution_count": 12,
   "outputs": [],
   "source": [
    "class Transformer(torch.nn.Module):\n",
    "\n",
    "    def __init__(self):\n",
    "        super().__init__()\n",
    "\n",
    "    def forward(self, x, y, theta, input_features):\n",
    "        \"\"\"\n",
    "\n",
    "        :param x:\n",
    "        :return: predicted outputs for every node\n",
    "        \"\"\"\n",
    "\n",
    "        hidden_features = self.hidden_features(input_features)\n",
    "        attention = self.get_attention_coefficients(x, y, theta)\n",
    "        outputs = attention @ hidden_features\n",
    "\n",
    "        return outputs\n",
    "\n",
    "    def get_attention_coefficients(self, x, y, theta):\n",
    "        \"\"\"\n",
    "\n",
    "        :return: an n*n matrix of attention coefficients alpha_ij = alpha(i, j)\n",
    "        \"\"\""
   ],
   "metadata": {
    "collapsed": false
   }
  },
  {
   "cell_type": "code",
   "execution_count": 13,
   "outputs": [],
   "source": [
    "class Base_SE2_Transformer(torch.nn.Module):\n",
    "    \"\"\"An abstract class! Need to subclass to produce invariants \"\"\"\n",
    "    def __init__(self, attention_hidden_units):\n",
    "        super().__init__()\n",
    "\n",
    "        self.attention_calculator = torch.nn\n",
    "\n",
    "    def get_num_invariant_dimensions(self):\n",
    "        raise NotImplementedError(\"Implement on subclass\")\n",
    "\n",
    "    def forward(self, x, ys):\n",
    "        raise NotImplementedError() # TODO\n",
    "\n",
    "    def get_positional_invariants(self, coords_1, coords_2):\n",
    "        raise NotImplementedError(\"Create a subclass to implement this!\")\n",
    "\n",
    "class Euclidean_SE2_Transformer(Base_SE2_Transformer):\n",
    "\n",
    "    def get_positional_invariant(self, coords_1, coords_2):\n",
    "        x1, y1, theta1 = coords_1\n",
    "        x2, y2, theta2 = coords_2\n",
    "\n",
    "        x_diff = x1 - x2\n",
    "        y_diff = y1 - y2\n",
    "        return np.sqrt(x_diff**2 + y_diff**2)\n",
    "\n",
    "    def get_num_invariant_dimensions(self):\n",
    "        return 1\n",
    "\n",
    "class FullyExpressive_SE2_Transformer(Base_SE2_Transformer):\n",
    "\n",
    "    def get_positional_invariants(self, coords_1, coords_2):\n",
    "        x1, y1, theta1 = coords_1\n",
    "        x2, y2, theta2 = coords_2\n",
    "\n",
    "        x_diff = x1 - x2\n",
    "        y_diff = y1 - y2\n",
    "        angle_diff = theta2 - theta1\n",
    "        return np.sqrt(x_diff**2 + y_diff**2), angle_diff\n",
    "\n",
    "\n"
   ],
   "metadata": {
    "collapsed": false
   }
  },
  {
   "cell_type": "code",
   "execution_count": 13,
   "outputs": [],
   "source": [],
   "metadata": {
    "collapsed": false
   }
  },
  {
   "cell_type": "code",
   "execution_count": 13,
   "outputs": [],
   "source": [],
   "metadata": {
    "collapsed": false
   }
  },
  {
   "cell_type": "code",
   "execution_count": 13,
   "outputs": [],
   "source": [],
   "metadata": {
    "collapsed": false
   }
  }
 ],
 "metadata": {
  "kernelspec": {
   "display_name": "Python 3",
   "language": "python",
   "name": "python3"
  },
  "language_info": {
   "codemirror_mode": {
    "name": "ipython",
    "version": 2
   },
   "file_extension": ".py",
   "mimetype": "text/x-python",
   "name": "python",
   "nbconvert_exporter": "python",
   "pygments_lexer": "ipython2",
   "version": "2.7.6"
  }
 },
 "nbformat": 4,
 "nbformat_minor": 0
}

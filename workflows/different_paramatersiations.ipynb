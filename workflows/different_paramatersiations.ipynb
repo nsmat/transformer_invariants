{
 "cells": [
  {
   "cell_type": "code",
   "execution_count": 2,
   "metadata": {
    "collapsed": true
   },
   "outputs": [],
   "source": [
    "import e3nn\n",
    "import torch"
   ]
  },
  {
   "cell_type": "code",
   "execution_count": 10,
   "outputs": [],
   "source": [
    "angles = e3nn.o3.rand_angles(20)\n",
    "angles = torch.row_stack(angles).T"
   ],
   "metadata": {
    "collapsed": false,
    "ExecuteTime": {
     "end_time": "2023-08-15T09:30:32.895453800Z",
     "start_time": "2023-08-15T09:30:32.878299900Z"
    }
   }
  },
  {
   "cell_type": "code",
   "execution_count": 11,
   "outputs": [
    {
     "data": {
      "text/plain": "tensor([[1.8448, 0.8572, 5.0966],\n        [3.5442, 2.0939, 5.0588],\n        [1.3206, 2.6270, 2.2178],\n        [3.0605, 2.3053, 0.4861],\n        [3.4723, 0.9913, 3.3491],\n        [1.9370, 1.1103, 4.9721],\n        [2.1960, 2.3731, 1.5321],\n        [5.4581, 0.3384, 5.4113],\n        [3.2380, 2.5833, 5.7735],\n        [5.9447, 2.1279, 3.8571],\n        [1.6720, 2.5206, 5.4398],\n        [6.0750, 1.1477, 0.3787],\n        [3.8250, 2.4832, 2.3613],\n        [1.4880, 1.1720, 2.3985],\n        [6.0714, 1.1109, 4.6802],\n        [4.8645, 2.2399, 2.7986],\n        [1.2228, 2.0988, 1.5782],\n        [4.2123, 1.1166, 5.8258],\n        [1.3741, 2.9947, 2.8240],\n        [5.7018, 0.8554, 6.2351]])"
     },
     "execution_count": 11,
     "metadata": {},
     "output_type": "execute_result"
    }
   ],
   "source": [
    "angles"
   ],
   "metadata": {
    "collapsed": false,
    "ExecuteTime": {
     "end_time": "2023-08-15T09:36:13.014660400Z",
     "start_time": "2023-08-15T09:36:12.994663Z"
    }
   }
  },
  {
   "cell_type": "code",
   "execution_count": 12,
   "outputs": [],
   "source": [
    "edge_spherical_harmonics = e3nn.o3.spherical_harmonics(2,\n",
    "                                                       angles,\n",
    "                                                       normalize=True\n",
    "                                                       )"
   ],
   "metadata": {
    "collapsed": false,
    "ExecuteTime": {
     "end_time": "2023-08-15T09:37:36.504766600Z",
     "start_time": "2023-08-15T09:37:35.928934900Z"
    }
   }
  },
  {
   "cell_type": "code",
   "execution_count": 16,
   "outputs": [
    {
     "data": {
      "text/plain": "torch.Size([20, 5])"
     },
     "execution_count": 16,
     "metadata": {},
     "output_type": "execute_result"
    }
   ],
   "source": [
    "edge_spherical_harmonics.shape"
   ],
   "metadata": {
    "collapsed": false,
    "ExecuteTime": {
     "end_time": "2023-08-15T09:37:53.102989600Z",
     "start_time": "2023-08-15T09:37:53.080729800Z"
    }
   }
  },
  {
   "cell_type": "code",
   "execution_count": null,
   "outputs": [],
   "source": [],
   "metadata": {
    "collapsed": false
   }
  }
 ],
 "metadata": {
  "kernelspec": {
   "display_name": "Python 3",
   "language": "python",
   "name": "python3"
  },
  "language_info": {
   "codemirror_mode": {
    "name": "ipython",
    "version": 2
   },
   "file_extension": ".py",
   "mimetype": "text/x-python",
   "name": "python",
   "nbconvert_exporter": "python",
   "pygments_lexer": "ipython2",
   "version": "2.7.6"
  }
 },
 "nbformat": 4,
 "nbformat_minor": 0
}

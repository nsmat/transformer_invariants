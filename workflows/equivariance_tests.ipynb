{
 "cells": [
  {
   "cell_type": "code",
   "execution_count": 1,
   "metadata": {},
   "outputs": [],
   "source": [
    "import torch_geometric as tg\n",
    "from utils.load_md17 import load_md17\n",
    "\n",
    "from models.se3_equivariant_transformer import Se3EquivariantTransformer\n",
    "import torch\n"
   ]
  },
  {
   "cell_type": "code",
   "execution_count": 2,
   "metadata": {},
   "outputs": [],
   "source": [
    "# Define an Equivariance test that should work for an arbitrary module\n",
    "# Then we can just test all the modules in turn \n",
    "\n",
    "dd = load_md17(dataset_name='aspirin CCSD', dataset_dir='./../real_datasets/MD17/', radius=2)\n",
    "train_data = dd['train']"
   ]
  },
  {
   "cell_type": "code",
   "execution_count": 3,
   "metadata": {},
   "outputs": [],
   "source": [
    "graph = train_data[0]\n"
   ]
  },
  {
   "cell_type": "code",
   "execution_count": 4,
   "outputs": [
    {
     "data": {
      "text/plain": "tensor([[-0.5259, -0.5764,  1.1121],\n        [-0.4202,  0.8181, -0.5873],\n        [ 1.2851, -0.4335, -0.4796],\n        [ 0.5242,  0.4859, -1.2755],\n        [-1.1477,  0.5654,  0.4671],\n        [ 0.4320, -0.8963,  0.6653],\n        [ 0.5259,  0.5764, -1.1121],\n        [ 0.7500, -0.8019,  0.8397],\n        [-1.1434,  0.0858,  0.1489],\n        [ 1.1477, -0.5654, -0.4671],\n        [-0.7500,  0.8019, -0.8397],\n        [-0.3208, -0.1632,  0.9771],\n        [-0.1560,  0.4922, -0.9798],\n        [ 1.1003,  0.0132,  0.2884],\n        [-0.3213, -0.9893, -0.2073],\n        [-0.9072,  0.5436,  1.1174],\n        [ 0.4564,  0.6394, -1.2536],\n        [-1.2851,  0.4335,  0.4796],\n        [ 0.6110, -1.0244,  0.6888],\n        [-0.5242, -0.4859,  1.2755],\n        [-0.6110,  1.0244, -0.6888],\n        [ 1.0431, -0.8127, -0.5149],\n        [ 0.5049, -1.0862,  0.1921],\n        [-0.2605, -0.5340, -1.0652],\n        [ 0.0176,  0.6577, -0.7567],\n        [-0.8692,  0.6611,  0.8013],\n        [-0.4564, -0.6394,  1.2536],\n        [-0.5049,  1.0862, -0.1921],\n        [ 0.8868, -0.0034, -1.5580],\n        [ 0.8692, -0.6611, -0.8013],\n        [ 0.9072, -0.5436, -1.1174],\n        [-1.3183, -0.3345, -0.5082],\n        [ 0.2605,  0.5340,  1.0652],\n        [ 1.3183,  0.3345,  0.5082],\n        [-1.0431,  0.8127,  0.5149],\n        [-0.0176, -0.6577,  0.7567],\n        [-0.8868,  0.0034,  1.5580],\n        [ 0.4202, -0.8181,  0.5873],\n        [-0.4320,  0.8963, -0.6653],\n        [ 1.1434, -0.0858, -0.1489],\n        [ 0.3208,  0.1632, -0.9771],\n        [ 0.1652,  1.4814, -0.7726],\n        [ 1.4216,  1.0025,  0.4957],\n        [ 0.3213,  0.9893,  0.2073],\n        [-1.2563,  0.4790, -1.2682],\n        [-1.4216, -1.0025, -0.4957],\n        [-1.1003, -0.0132, -0.2884],\n        [ 1.2563, -0.4790,  1.2682],\n        [-0.1652, -1.4814,  0.7726],\n        [ 0.1560, -0.4922,  0.9798]])"
     },
     "execution_count": 4,
     "metadata": {},
     "output_type": "execute_result"
    }
   ],
   "source": [
    "graph.relative_positions"
   ],
   "metadata": {
    "collapsed": false,
    "ExecuteTime": {
     "end_time": "2023-08-04T14:52:06.124961300Z",
     "start_time": "2023-08-04T14:52:06.063418700Z"
    }
   }
  },
  {
   "cell_type": "code",
   "execution_count": null,
   "outputs": [],
   "source": [],
   "metadata": {
    "collapsed": false
   }
  }
 ],
 "metadata": {
  "kernelspec": {
   "display_name": "transformer_invariants",
   "language": "python",
   "name": "python3"
  },
  "language_info": {
   "codemirror_mode": {
    "name": "ipython",
    "version": 3
   },
   "file_extension": ".py",
   "mimetype": "text/x-python",
   "name": "python",
   "nbconvert_exporter": "python",
   "pygments_lexer": "ipython3",
   "version": "3.9.7"
  },
  "orig_nbformat": 4
 },
 "nbformat": 4,
 "nbformat_minor": 2
}

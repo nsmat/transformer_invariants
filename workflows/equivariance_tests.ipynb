{
 "cells": [
  {
   "cell_type": "code",
   "execution_count": 2,
   "metadata": {},
   "outputs": [
    {
     "ename": "ImportError",
     "evalue": "cannot import name 'RadiallyParamaterisedTensorProduct' from 'models' (unknown location)",
     "output_type": "error",
     "traceback": [
      "\u001B[1;31m---------------------------------------------------------------------------\u001B[0m",
      "\u001B[1;31mImportError\u001B[0m                               Traceback (most recent call last)",
      "Cell \u001B[1;32mIn[2], line 4\u001B[0m\n\u001B[0;32m      1\u001B[0m \u001B[38;5;28;01mimport\u001B[39;00m \u001B[38;5;21;01mtorch_geometric\u001B[39;00m \u001B[38;5;28;01mas\u001B[39;00m \u001B[38;5;21;01mtg\u001B[39;00m\n\u001B[0;32m      2\u001B[0m \u001B[38;5;28;01mfrom\u001B[39;00m \u001B[38;5;21;01mload_md17\u001B[39;00m \u001B[38;5;28;01mimport\u001B[39;00m load_md17\n\u001B[1;32m----> 4\u001B[0m \u001B[38;5;28;01mfrom\u001B[39;00m \u001B[38;5;21;01mmodels\u001B[39;00m\u001B[38;5;21;01m.\u001B[39;00m\u001B[38;5;21;01mse3_equivariant_transformer\u001B[39;00m \u001B[38;5;28;01mimport\u001B[39;00m Se3EquivariantTransformer\n",
      "File \u001B[1;32m~\\Documents\\CodeForUni\\transformer_invariants\\models\\se3_equivariant_transformer.py:4\u001B[0m\n\u001B[0;32m      2\u001B[0m \u001B[38;5;28;01mimport\u001B[39;00m \u001B[38;5;21;01mtorch_geometric\u001B[39;00m \u001B[38;5;28;01mas\u001B[39;00m \u001B[38;5;21;01mtg\u001B[39;00m\n\u001B[0;32m      3\u001B[0m \u001B[38;5;28;01mimport\u001B[39;00m \u001B[38;5;21;01me3nn\u001B[39;00m\n\u001B[1;32m----> 4\u001B[0m \u001B[38;5;28;01mfrom\u001B[39;00m \u001B[38;5;21;01mmodels\u001B[39;00m\u001B[38;5;21;01m.\u001B[39;00m\u001B[38;5;21;01mattention_mechanisms\u001B[39;00m \u001B[38;5;28;01mimport\u001B[39;00m Se3AttentionHead\n\u001B[0;32m      7\u001B[0m \u001B[38;5;28;01mclass\u001B[39;00m \u001B[38;5;21;01mSe3EquivariantTransformer\u001B[39;00m(torch\u001B[38;5;241m.\u001B[39mnn\u001B[38;5;241m.\u001B[39mModule):\n\u001B[0;32m      9\u001B[0m     \u001B[38;5;28;01mdef\u001B[39;00m \u001B[38;5;21m__init__\u001B[39m(\u001B[38;5;28mself\u001B[39m,\n\u001B[0;32m     10\u001B[0m                 num_features: \u001B[38;5;28mint\u001B[39m,\n\u001B[0;32m     11\u001B[0m                 num_attention_layers: \u001B[38;5;28mint\u001B[39m,\n\u001B[1;32m   (...)\u001B[0m\n\u001B[0;32m     18\u001B[0m                 key_and_query_irreps: e3nn\u001B[38;5;241m.\u001B[39mo3\u001B[38;5;241m.\u001B[39mIrrep,\n\u001B[0;32m     19\u001B[0m                 ):\n",
      "File \u001B[1;32m~\\Documents\\CodeForUni\\transformer_invariants\\models\\attention_mechanisms.py:3\u001B[0m\n\u001B[0;32m      1\u001B[0m \u001B[38;5;28;01mimport\u001B[39;00m \u001B[38;5;21;01mtorch\u001B[39;00m\n\u001B[0;32m      2\u001B[0m \u001B[38;5;28;01mimport\u001B[39;00m \u001B[38;5;21;01mtorch_geometric\u001B[39;00m \u001B[38;5;28;01mas\u001B[39;00m \u001B[38;5;21;01mtg\u001B[39;00m\n\u001B[1;32m----> 3\u001B[0m \u001B[38;5;28;01mfrom\u001B[39;00m \u001B[38;5;21;01mmodels\u001B[39;00m \u001B[38;5;28;01mimport\u001B[39;00m RadiallyParamaterisedTensorProduct, QueryNetwork\n\u001B[0;32m      4\u001B[0m \u001B[38;5;28;01mimport\u001B[39;00m \u001B[38;5;21;01me3nn\u001B[39;00m\n\u001B[0;32m      6\u001B[0m \u001B[38;5;28;01mclass\u001B[39;00m \u001B[38;5;21;01mSe3EquivariantAttentionMechanism\u001B[39;00m(tg\u001B[38;5;241m.\u001B[39mnn\u001B[38;5;241m.\u001B[39mMessagePassing):\n",
      "\u001B[1;31mImportError\u001B[0m: cannot import name 'RadiallyParamaterisedTensorProduct' from 'models' (unknown location)"
     ]
    }
   ],
   "source": [
    "import torch_geometric as tg\n",
    "from load_md17 import load_md17\n",
    "\n",
    "from models.se3_equivariant_transformer import Se3EquivariantTransformer"
   ]
  },
  {
   "cell_type": "code",
   "execution_count": null,
   "metadata": {},
   "outputs": [],
   "source": [
    "# Define an Equivariance test that should work for an arbitrary module\n",
    "# Then we can just test all the modules in turn \n",
    "\n",
    "dd = load_md17(dataset_name='aspirin CCSD', dataset_dir='./../real_datasets/MD17/', radius=2)\n",
    "train_data = dd['train']"
   ]
  },
  {
   "cell_type": "code",
   "execution_count": null,
   "metadata": {},
   "outputs": [],
   "source": [
    "graph = train_data[0]\n",
    "graph.edge_attr\n"
   ]
  },
  {
   "cell_type": "code",
   "execution_count": null,
   "metadata": {},
   "outputs": [],
   "source": []
  }
 ],
 "metadata": {
  "kernelspec": {
   "display_name": "transformer_invariants",
   "language": "python",
   "name": "python3"
  },
  "language_info": {
   "codemirror_mode": {
    "name": "ipython",
    "version": 3
   },
   "file_extension": ".py",
   "mimetype": "text/x-python",
   "name": "python",
   "nbconvert_exporter": "python",
   "pygments_lexer": "ipython3",
   "version": "3.9.7"
  },
  "orig_nbformat": 4
 },
 "nbformat": 4,
 "nbformat_minor": 2
}

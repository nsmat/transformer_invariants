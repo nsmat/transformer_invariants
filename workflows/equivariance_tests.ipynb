{
 "cells": [
  {
   "cell_type": "code",
   "execution_count": 9,
   "metadata": {
    "ExecuteTime": {
     "end_time": "2023-08-04T14:20:39.841991900Z",
     "start_time": "2023-08-04T14:20:39.769716200Z"
    }
   },
   "outputs": [],
   "source": [
    "import torch_geometric as tg\n",
    "from utils.load_md17 import load_md17\n",
    "\n",
    "from models.se3_equivariant_transformer import Se3EquivariantTransformer\n",
    "import torch\n"
   ]
  },
  {
   "cell_type": "code",
   "execution_count": 10,
   "metadata": {
    "ExecuteTime": {
     "end_time": "2023-08-04T14:20:41.035944600Z",
     "start_time": "2023-08-04T14:20:40.896826600Z"
    }
   },
   "outputs": [],
   "source": [
    "# Define an Equivariance test that should work for an arbitrary module\n",
    "# Then we can just test all the modules in turn \n",
    "\n",
    "dd = load_md17(dataset_name='aspirin CCSD', dataset_dir='./../real_datasets/MD17/', radius=2)\n",
    "train_data = dd['train']"
   ]
  },
  {
   "cell_type": "code",
   "execution_count": 11,
   "metadata": {
    "ExecuteTime": {
     "end_time": "2023-08-04T14:20:41.271899100Z",
     "start_time": "2023-08-04T14:20:41.225920600Z"
    }
   },
   "outputs": [],
   "source": [
    "graph = train_data[0]\n",
    "graph.distances = torch.clone(graph.edge_attr)\n"
   ]
  },
  {
   "cell_type": "code",
   "execution_count": null,
   "outputs": [],
   "source": [],
   "metadata": {
    "collapsed": false
   }
  }
 ],
 "metadata": {
  "kernelspec": {
   "display_name": "transformer_invariants",
   "language": "python",
   "name": "python3"
  },
  "language_info": {
   "codemirror_mode": {
    "name": "ipython",
    "version": 3
   },
   "file_extension": ".py",
   "mimetype": "text/x-python",
   "name": "python",
   "nbconvert_exporter": "python",
   "pygments_lexer": "ipython3",
   "version": "3.9.7"
  },
  "orig_nbformat": 4
 },
 "nbformat": 4,
 "nbformat_minor": 2
}

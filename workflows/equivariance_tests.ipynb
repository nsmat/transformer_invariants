{
 "cells": [
  {
   "cell_type": "code",
   "execution_count": 1,
   "metadata": {
    "ExecuteTime": {
     "end_time": "2023-08-04T18:16:42.749861400Z",
     "start_time": "2023-08-04T18:16:39.321006200Z"
    }
   },
   "outputs": [],
   "source": [
    "import torch_geometric as tg\n",
    "from utils.load_md17 import load_md17\n",
    "\n",
    "from models.tensor_field_networks import RadiallyParamaterisedTensorProduct\n",
    "import torch\n",
    "import e3nn"
   ]
  },
  {
   "cell_type": "code",
   "execution_count": 2,
   "metadata": {
    "ExecuteTime": {
     "end_time": "2023-08-04T18:16:42.762384600Z",
     "start_time": "2023-08-04T18:16:42.748852900Z"
    }
   },
   "outputs": [],
   "source": [
    "# Define an Equivariance test that should work for an arbitrary module\n",
    "# Then we can just test all the modules in turn \n",
    "\n",
    "dd = load_md17(dataset_name='aspirin CCSD',\n",
    "               dataset_dir='./../real_datasets/MD17/',\n",
    "               radius=2)\n",
    "train_data = dd['train']"
   ]
  },
  {
   "cell_type": "code",
   "execution_count": 27,
   "metadata": {
    "ExecuteTime": {
     "end_time": "2023-08-04T18:24:32.321482500Z",
     "start_time": "2023-08-04T18:24:32.303428200Z"
    }
   },
   "outputs": [],
   "source": [
    "def compute_equivariance_error(alpha, beta, gamma, model, feature_irreps, geometric_irreps):\n",
    "    random_features = feature_irreps.randn(1, -1)\n",
    "    random_geometric = geometric_irreps.randn(1, -1)\n",
    "    distances = torch.tensor(1.).unsqueeze(0).unsqueeze(0) # Add a batch dimension and a node dimension\n",
    "\n",
    "    # Need to compute one 'rotation matrix' for each set of irreps\n",
    "    rotation_matrix_features = feature_irreps.D_from_angles(alpha, beta, gamma)\n",
    "    rotated_features = random_features @ rotation_matrix_features\n",
    "\n",
    "    rotation_matrix_geometric = geometric_irreps.D_from_angles(alpha, beta, gamma)\n",
    "    rotated_geometric = random_geometric @ rotation_matrix_geometric\n",
    "\n",
    "    output = model.forward(random_features.unsqueeze(0).unsqueeze(0),\n",
    "                           random_geometric.unsqueeze(0).unsqueeze(0),\n",
    "                           distances)\n",
    "\n",
    "    rotated_output = output @ rotation_matrix_features\n",
    "    output_from_rotated_inputs = model.forward(rotated_features.unsqueeze(0).unsqueeze(0),\n",
    "                                               rotated_geometric.unsqueeze(0).unsqueeze(0),\n",
    "                                               distances)\n",
    "\n",
    "    error =  (rotated_output - output_from_rotated_inputs).pow(2)/rotated_output.pow(2).sum()\n",
    "\n",
    "    return error\n",
    "\n",
    "\n",
    "def test_equivariance(model, n, feature_irreps, geometric_irreps):\n",
    "    angles = e3nn.o3.rand_angles(n)\n",
    "\n",
    "    errors = []\n",
    "    for alpha, beta, gamma in zip(*angles):\n",
    "        error = compute_equivariance_error(alpha, beta, gamma, model, feature_irreps, geometric_irreps)\n",
    "        errors.append(error)\n",
    "\n",
    "    return torch.concat(errors).max()"
   ]
  },
  {
   "cell_type": "code",
   "execution_count": 28,
   "outputs": [],
   "source": [
    "feature_irreps = e3nn.o3.Irreps(\"10x0e + 10x1e + 10x2e\")\n",
    "geometric_irreps = e3nn.o3.Irreps(\"3x0e+3x1e+3x2e\")\n",
    "output_irreps = e3nn.o3.Irreps(\"10x0e + 10x1e + 10x2e\")\n",
    "\n",
    "rptp = RadiallyParamaterisedTensorProduct(feature_irreps,\n",
    "                                          geometric_irreps,\n",
    "                                          output_irreps,\n",
    "                                          radial_hidden_units=16\n",
    "                                          )"
   ],
   "metadata": {
    "collapsed": false,
    "ExecuteTime": {
     "end_time": "2023-08-04T18:24:32.895461300Z",
     "start_time": "2023-08-04T18:24:32.610981800Z"
    }
   }
  },
  {
   "cell_type": "code",
   "execution_count": null,
   "outputs": [],
   "source": [
    "rptp.irreps_in1"
   ],
   "metadata": {
    "collapsed": false
   }
  },
  {
   "cell_type": "code",
   "execution_count": 29,
   "outputs": [
    {
     "data": {
      "text/plain": "tensor(1.2935e-10, grad_fn=<MaxBackward1>)"
     },
     "execution_count": 29,
     "metadata": {},
     "output_type": "execute_result"
    }
   ],
   "source": [
    "test_equivariance(rptp, 100, feature_irreps, geometric_irreps)"
   ],
   "metadata": {
    "collapsed": false,
    "ExecuteTime": {
     "end_time": "2023-08-04T18:24:37.763505300Z",
     "start_time": "2023-08-04T18:24:33.811721Z"
    }
   }
  },
  {
   "cell_type": "code",
   "execution_count": 9,
   "outputs": [],
   "source": [
    "# We need to add batch dimensions\n",
    "random_features = feature_irreps.randn(1, -1).unsqueeze(0)\n",
    "random_geometric = geometric_irreps.randn(1, -1).unsqueeze(0)\n",
    "\n",
    "distances = torch.tensor(1.).unsqueeze(0).unsqueeze(0) # Add a batch dimension and a node dimension\n",
    "\n",
    "output = rptp.forward(random_features, random_geometric, distances)"
   ],
   "metadata": {
    "collapsed": false,
    "ExecuteTime": {
     "end_time": "2023-08-04T18:18:03.056112200Z",
     "start_time": "2023-08-04T18:18:03.003844500Z"
    }
   }
  },
  {
   "cell_type": "code",
   "execution_count": null,
   "outputs": [],
   "source": [],
   "metadata": {
    "collapsed": false
   }
  }
 ],
 "metadata": {
  "kernelspec": {
   "display_name": "transformer_invariants",
   "language": "python",
   "name": "python3"
  },
  "language_info": {
   "codemirror_mode": {
    "name": "ipython",
    "version": 3
   },
   "file_extension": ".py",
   "mimetype": "text/x-python",
   "name": "python",
   "nbconvert_exporter": "python",
   "pygments_lexer": "ipython3",
   "version": "3.9.7"
  },
  "orig_nbformat": 4
 },
 "nbformat": 4,
 "nbformat_minor": 2
}

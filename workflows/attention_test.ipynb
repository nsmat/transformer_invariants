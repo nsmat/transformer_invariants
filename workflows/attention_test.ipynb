{
 "cells": [
  {
   "cell_type": "code",
   "execution_count": 1,
   "outputs": [],
   "source": [
    "%load_ext autoreload\n",
    "%autoreload 2"
   ],
   "metadata": {
    "collapsed": false,
    "ExecuteTime": {
     "end_time": "2023-08-08T08:35:40.110514800Z",
     "start_time": "2023-08-08T08:35:40.055505100Z"
    }
   }
  },
  {
   "cell_type": "code",
   "execution_count": 43,
   "outputs": [],
   "source": [
    "import networkx as nx\n",
    "import torch\n",
    "import torch_geometric as tg\n",
    "import numpy as np\n",
    "\n",
    "from utils.transforms import EuclideanInformationTransform, OneHot\n",
    "from  models.se3_attention_mechanisms import Se3EquivariantAttentionMechanism\n",
    "from models.tensor_field_networks import QueryNetwork\n",
    "\n",
    "import e3nn"
   ],
   "metadata": {
    "collapsed": false,
    "ExecuteTime": {
     "end_time": "2023-08-08T08:58:46.863423500Z",
     "start_time": "2023-08-08T08:58:46.753291600Z"
    }
   }
  },
  {
   "cell_type": "markdown",
   "source": [
    "### Let's test the SE3 equivariant version of the GAT"
   ],
   "metadata": {
    "collapsed": false
   }
  },
  {
   "cell_type": "code",
   "execution_count": 3,
   "outputs": [],
   "source": [
    "g = nx.DiGraph()\n",
    "\n",
    "vertices = (0, 1, 2)\n",
    "edges = [(0, 1),\n",
    "         (1, 0),\n",
    "         (1, 2),\n",
    "         (2, 0),\n",
    "         ]\n",
    "\n",
    "z = [0, 1, 2,]\n",
    "pos = [(0.,   0.,  0.),\n",
    "       (-1., -1., -1.),\n",
    "       (1.,   1.,  1.),\n",
    "     ]\n",
    "\n",
    "features = {i: {'z': z[i], 'pos': pos[i]} for i in vertices }\n",
    "\n",
    "for v in vertices:\n",
    "    g.add_node(v)\n",
    "\n",
    "for e in edges:\n",
    "    g.add_edge(*e)\n",
    "\n",
    "nx.set_node_attributes(g, features)\n",
    "\n",
    "graph = tg.utils.from_networkx(g)\n",
    "\n",
    "euc_transform = EuclideanInformationTransform()\n",
    "one_hot_transform = OneHot('z', 'z')\n",
    "transform = tg.transforms.Compose([euc_transform, one_hot_transform])\n",
    "\n",
    "graph = transform(graph)\n"
   ],
   "metadata": {
    "collapsed": false,
    "ExecuteTime": {
     "end_time": "2023-08-08T08:36:00.698777500Z",
     "start_time": "2023-08-08T08:36:00.415878100Z"
    }
   }
  },
  {
   "cell_type": "code",
   "execution_count": 4,
   "outputs": [
    {
     "name": "stderr",
     "output_type": "stream",
     "text": [
      "C:\\Users\\niksm\\Documents\\CodeForUni\\venvs\\transformer_invariants\\lib\\site-packages\\torch_geometric\\deprecation.py:22: UserWarning: 'data.DataLoader' is deprecated, use 'loader.DataLoader' instead\n",
      "  warnings.warn(out)\n"
     ]
    }
   ],
   "source": [
    "test_dataloader = tg.data.DataLoader([graph, graph.clone()], batch_size=1)\n",
    "for batch in test_dataloader:\n",
    "    break"
   ],
   "metadata": {
    "collapsed": false,
    "ExecuteTime": {
     "end_time": "2023-08-08T08:36:01.079803Z",
     "start_time": "2023-08-08T08:36:00.698777500Z"
    }
   }
  },
  {
   "cell_type": "code",
   "execution_count": 5,
   "outputs": [
    {
     "name": "stderr",
     "output_type": "stream",
     "text": [
      "C:\\Users\\niksm\\Documents\\CodeForUni\\venvs\\transformer_invariants\\lib\\site-packages\\torch\\jit\\_check.py:181: UserWarning: The TorchScript type system doesn't support instance-level annotations on empty non-base types in `__init__`. Instead, either 1) use a type annotation in the class body, or 2) wrap the type in `torch.jit.Attribute`.\n",
      "  warnings.warn(\"The TorchScript type system doesn't support \"\n"
     ]
    }
   ],
   "source": [
    "feature_irreps = e3nn.o3.Irreps(\"10x0e + 10x1e + 10x2e\")\n",
    "geometric_irreps = e3nn.o3.Irreps(\"3x0e+3x1e+3x2e\")\n",
    "output_irreps = e3nn.o3.Irreps(\"10x0e + 10x1e + 10x2e\")\n",
    "internal_key_query_irreps = e3nn.o3.Irreps(\"5x0e + 5x1e + 5x2e\")\n",
    "\n",
    "\n",
    "net = Se3EquivariantAttentionMechanism(\n",
    "    feature_irreps=feature_irreps,\n",
    "    geometric_irreps=geometric_irreps,\n",
    "    value_out_irreps=output_irreps,\n",
    "    key_and_query_out_irreps=internal_key_query_irreps,\n",
    "    radial_network_hidden_units=16\n",
    ")\n"
   ],
   "metadata": {
    "collapsed": false,
    "ExecuteTime": {
     "end_time": "2023-08-08T08:36:02.621440500Z",
     "start_time": "2023-08-08T08:36:01.076263200Z"
    }
   }
  },
  {
   "cell_type": "code",
   "execution_count": 6,
   "outputs": [],
   "source": [
    "from tests.test_attention_mechanism_equivariance import GraphInputEquivarianceTest\n",
    "\n",
    "alpha, beta, gamma = e3nn.o3.rand_angles(1)"
   ],
   "metadata": {
    "collapsed": false,
    "ExecuteTime": {
     "end_time": "2023-08-08T08:36:02.918322400Z",
     "start_time": "2023-08-08T08:36:02.621440500Z"
    }
   }
  },
  {
   "cell_type": "code",
   "execution_count": 7,
   "outputs": [],
   "source": [
    "# For normal inputs\n",
    "embed = torch.nn.Linear(batch.z.shape[1], feature_irreps.dim)\n",
    "features = embed(batch.z.float())\n",
    "edge_harmonics = e3nn.o3.spherical_harmonics(geometric_irreps,\n",
    "                                             batch.relative_positions,\n",
    "                                             normalize=False)\n",
    "\n",
    "output = net.forward(edge_index=batch.edge_index,\n",
    "           features=features,\n",
    "           edge_features=edge_harmonics,\n",
    "           distances=batch.distances,\n",
    "           )\n",
    "\n",
    "rotation_matrix_for_output = output_irreps.D_from_angles(alpha, beta, gamma)\n",
    "rotated_output = output @ rotation_matrix_for_output"
   ],
   "metadata": {
    "collapsed": false,
    "ExecuteTime": {
     "end_time": "2023-08-08T08:36:03.832135200Z",
     "start_time": "2023-08-08T08:36:02.918322400Z"
    }
   }
  },
  {
   "cell_type": "code",
   "execution_count": 38,
   "outputs": [],
   "source": [
    "# Alternative way of getting the rotated harmonics\n",
    "edge_harmonic_rotater = geometric_irreps.D_from_angles(alpha, beta, gamma).squeeze(0)\n",
    "rotated_edge_harmonics =  edge_harmonics @ edge_harmonic_rotater\n",
    "\n",
    "output_from_rotated = net.forward(\n",
    "           edge_index=batch.edge_index,\n",
    "           features=features,\n",
    "           edge_features=rotated_edge_harmonics,\n",
    "           distances=batch.distances,\n",
    "           )\n"
   ],
   "metadata": {
    "collapsed": false,
    "ExecuteTime": {
     "end_time": "2023-08-08T08:53:56.366796800Z",
     "start_time": "2023-08-08T08:53:55.367338800Z"
    }
   }
  },
  {
   "cell_type": "code",
   "execution_count": 40,
   "outputs": [
    {
     "data": {
      "text/plain": "tensor([[[-4.4111e-02,  7.1985e-03, -3.0878e-02, -3.4925e-02,  4.6860e-02,\n          -4.9958e-02, -1.8769e-02,  1.8522e-01, -8.1026e-02,  6.1958e-02,\n           1.4775e-03,  2.2824e-02,  1.9159e-02, -9.8669e-02, -2.5568e-02,\n           8.5812e-02,  3.6213e-02, -9.2414e-04,  2.3195e-02, -3.9827e-02,\n          -4.0071e-02,  1.0477e-01,  2.5204e-02, -3.2784e-02, -8.4977e-02,\n           3.3356e-02, -5.6514e-02,  2.4619e-02,  1.4071e-02, -2.0325e-02,\n           2.4853e-02,  1.9631e-02, -4.6869e-02,  4.1648e-02,  4.1100e-02,\n          -5.7533e-02, -1.6084e-02,  2.1501e-02,  6.6564e-02, -9.5900e-02,\n          -2.5916e-02,  5.3230e-03, -8.7527e-03,  6.3623e-02,  1.9251e-02,\n          -2.3297e-02, -3.1619e-03, -1.6661e-02,  3.0277e-02, -3.4938e-02,\n           1.8330e-02,  4.3064e-03,  6.9326e-03, -4.0454e-02, -2.2670e-02,\n           1.5212e-02, -8.6178e-03, -4.2730e-02, -4.3235e-02, -1.6684e-03,\n           4.5444e-02, -4.4011e-03,  3.8577e-02,  2.5120e-02,  3.7315e-03,\n           7.4096e-02,  3.5944e-03,  1.7364e-02, -4.5684e-02,  1.5421e-04,\n           1.8734e-02,  2.2728e-02,  1.1781e-02, -1.0246e-02,  5.5346e-02,\n           7.6407e-03, -3.7531e-02, -3.6198e-03,  9.0774e-02,  1.0269e-03,\n          -5.0864e-02,  7.3411e-03, -2.3672e-02,  8.5912e-03, -8.0121e-03,\n           2.5311e-02, -4.2143e-03,  4.3168e-02,  8.0286e-03,  3.9708e-02],\n         [-4.5716e-02,  5.0500e-03, -1.9891e-02, -3.8042e-02,  4.5736e-02,\n          -5.3340e-02, -2.9731e-02,  1.6934e-01, -6.8309e-02,  5.0290e-02,\n           7.7557e-03,  1.9199e-02,  1.9678e-02, -9.3194e-02, -2.2588e-02,\n           8.1199e-02,  2.8594e-02, -4.5168e-03,  1.7197e-02, -4.0858e-02,\n          -3.2781e-02,  1.0336e-01,  2.6540e-02, -2.8661e-02, -7.1299e-02,\n           2.4908e-02, -5.4868e-02,  3.2795e-02,  1.2986e-02, -2.5369e-02,\n           2.5130e-02,  2.0876e-02, -3.3678e-02,  3.9623e-02,  3.7087e-02,\n          -6.5786e-02, -1.2665e-02,  1.7920e-02,  6.4085e-02, -8.9466e-02,\n          -2.7633e-02,  9.3207e-03, -1.3330e-02,  5.9115e-02,  1.9655e-02,\n          -2.6056e-02,  6.9010e-04, -2.0106e-02,  3.1001e-02, -2.3932e-02,\n           2.2071e-02,  1.1591e-03,  1.2289e-02, -4.1140e-02, -1.9991e-02,\n           1.5864e-02, -1.0388e-02, -3.8576e-02, -4.7165e-02, -1.1386e-04,\n           4.8384e-02, -8.3308e-03,  3.3486e-02,  2.8405e-02, -3.2397e-03,\n           6.8190e-02,  4.9525e-03,  1.6656e-02, -4.2156e-02, -5.2597e-04,\n           1.1310e-02,  2.3161e-02,  1.1823e-02, -9.0401e-03,  4.8916e-02,\n           1.0564e-02, -3.6881e-02,  2.2281e-03,  8.3625e-02,  1.8944e-03,\n          -4.5587e-02,  3.6998e-03, -2.1127e-02,  1.3743e-02, -9.6546e-03,\n           2.6892e-02, -5.8784e-03,  4.1741e-02,  9.4143e-03,  3.9490e-02],\n         [-4.2937e-02,  7.7164e-03,  1.8473e-02,  5.3172e-02, -9.8273e-02,\n           5.3983e-02,  2.3483e-02,  2.5293e-01, -4.2101e-02,  8.0217e-02,\n          -2.5836e-02,  1.6053e-02, -2.6795e-02, -9.4576e-02, -4.4573e-02,\n           3.3466e-02,  4.8199e-02, -7.4674e-03,  1.8752e-02, -4.1740e-02,\n          -1.0714e-01,  9.3276e-02,  1.5396e-02, -5.9712e-02, -1.2472e-01,\n           4.1847e-02, -2.9966e-02,  3.7999e-02,  2.2374e-02, -3.4066e-02,\n           4.4258e-02,  1.3808e-02, -9.9702e-02, -1.2920e-02,  3.3750e-02,\n           2.7364e-02,  5.1211e-02,  1.6648e-02,  8.5739e-02, -1.4108e-01,\n           3.6526e-02, -6.2135e-02,  9.2907e-03,  8.3328e-02,  4.6548e-03,\n          -1.1208e-02, -6.5379e-02, -3.6093e-03, -4.4545e-02, -7.3695e-02,\n          -1.6106e-02,  1.9389e-02, -3.5715e-02,  4.6362e-02, -4.5655e-02,\n           6.0863e-03, -1.4719e-02, -6.1842e-02,  1.2185e-02,  8.0426e-03,\n          -2.4066e-02,  4.5512e-02,  1.1333e-02,  1.8385e-03,  4.7041e-02,\n           1.1711e-01, -3.2189e-02,  1.8431e-02, -4.3330e-02,  6.0265e-04,\n           3.1554e-02,  3.2275e-02, -2.8839e-02, -1.4482e-02,  5.3524e-02,\n           3.7517e-02, -8.7452e-02,  4.5377e-03,  8.0555e-02, -7.4893e-02,\n          -9.7411e-02,  1.0425e-02, -6.3940e-02, -3.1747e-02, -2.1006e-02,\n          -1.1278e-02,  1.4453e-02,  2.0105e-02,  4.1618e-02,  3.3626e-02]]],\n       grad_fn=<SubBackward0>)"
     },
     "execution_count": 40,
     "metadata": {},
     "output_type": "execute_result"
    }
   ],
   "source": [
    "(rotated_output - output_from_rotated)"
   ],
   "metadata": {
    "collapsed": false,
    "ExecuteTime": {
     "end_time": "2023-08-08T08:53:59.391590100Z",
     "start_time": "2023-08-08T08:53:57.120791800Z"
    }
   }
  },
  {
   "cell_type": "code",
   "execution_count": null,
   "outputs": [],
   "source": [
    "# For rotated inputs\n",
    "rotated_graph = batch.clone()\n",
    "rotation_matrix = e3nn.o3._rotation.angles_to_matrix(alpha, beta, gamma)\n",
    "rotated_graph.relative_positions = (rotation_matrix @ rotated_graph.relative_positions.unsqueeze(-1)).squeeze(-1)\n",
    "\n",
    "\n",
    "\n",
    "edge_harmonics_from_rotated = e3nn.o3.spherical_harmonics(geometric_irreps,\n",
    "                                                     rotated_graph.relative_positions,\n",
    "                                                     normalize=False)\n"
   ],
   "metadata": {
    "collapsed": false
   }
  },
  {
   "cell_type": "code",
   "execution_count": 48,
   "outputs": [],
   "source": [
    "q = QueryNetwork(feature_irreps=feature_irreps, irreps_out=internal_key_query_irreps)"
   ],
   "metadata": {
    "collapsed": false,
    "ExecuteTime": {
     "end_time": "2023-08-08T09:01:33.106624800Z",
     "start_time": "2023-08-08T09:01:32.136596600Z"
    }
   }
  },
  {
   "cell_type": "code",
   "execution_count": 49,
   "outputs": [
    {
     "data": {
      "text/plain": "tensor([[-0.1527, -0.0830,  0.1483, -0.7328, -0.6267,  0.0179,  0.2110, -0.3453,\n          0.2425, -0.7961, -0.1468,  0.4997, -0.9843, -0.4274,  0.5686, -0.1127,\n         -0.0883, -0.4857,  0.3248,  0.8573, -0.0110, -0.2758, -0.0941, -0.1833,\n          0.5809, -0.2757,  0.3822,  0.0727, -0.4175, -0.4101, -0.8587,  0.3687,\n         -0.4869, -0.1748,  0.3836,  0.2581,  0.2781,  0.5381, -0.0721, -0.6052,\n         -0.4293,  0.6057,  0.1193,  0.4705, -0.3993],\n        [ 0.3417, -0.3640,  0.6812, -0.6029, -0.1906,  0.2185,  0.0493,  0.1199,\n         -0.0414, -0.6892, -0.6158, -0.4395,  0.1015, -0.7816,  0.5274, -0.0480,\n         -0.3881, -0.4681,  0.2227,  0.2753,  0.2720, -0.0160, -0.2497,  0.0951,\n         -0.1425, -0.4509, -0.0651,  0.7093, -0.0478, -0.0314, -1.3942, -0.0447,\n         -0.8410, -0.0384,  0.0301, -0.4153,  0.2948,  0.9690, -0.2024,  0.3105,\n         -0.3496,  0.3410,  1.2558,  0.2711, -0.0403],\n        [ 0.1065, -0.1452,  0.0343, -0.7553, -0.2603,  0.2558, -0.2037,  0.2095,\n          1.0767, -0.5554, -0.3408,  0.6458, -0.0712, -1.0645,  0.9188,  0.2441,\n         -0.2629, -0.6211, -0.0805,  0.3035, -0.2311, -0.4234, -0.0298, -0.6095,\n         -0.1048, -0.5730, -0.0089,  0.1333, -0.6083, -0.1456, -0.2606,  0.5897,\n         -0.6151,  0.3868,  0.2962, -0.5511,  0.1187,  0.5453,  0.0758, -0.1583,\n         -0.4328,  0.1489,  1.1021,  0.2279, -0.4923]],\n       grad_fn=<ReshapeAliasBackward0>)"
     },
     "execution_count": 49,
     "metadata": {},
     "output_type": "execute_result"
    }
   ],
   "source": [
    "q.forward(features)"
   ],
   "metadata": {
    "collapsed": false,
    "ExecuteTime": {
     "end_time": "2023-08-08T09:01:33.836348Z",
     "start_time": "2023-08-08T09:01:33.702643900Z"
    }
   }
  },
  {
   "cell_type": "code",
   "execution_count": null,
   "outputs": [],
   "source": [],
   "metadata": {
    "collapsed": false
   }
  }
 ],
 "metadata": {
  "kernelspec": {
   "display_name": "Python 3",
   "language": "python",
   "name": "python3"
  },
  "language_info": {
   "codemirror_mode": {
    "name": "ipython",
    "version": 2
   },
   "file_extension": ".py",
   "mimetype": "text/x-python",
   "name": "python",
   "nbconvert_exporter": "python",
   "pygments_lexer": "ipython2",
   "version": "2.7.6"
  }
 },
 "nbformat": 4,
 "nbformat_minor": 0
}

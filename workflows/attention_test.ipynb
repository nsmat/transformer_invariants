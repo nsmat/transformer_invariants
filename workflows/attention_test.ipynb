{
 "cells": [
  {
   "cell_type": "code",
   "execution_count": 1,
   "outputs": [],
   "source": [
    "%load_ext autoreload\n",
    "%autoreload 2"
   ],
   "metadata": {
    "collapsed": false
   }
  },
  {
   "cell_type": "code",
   "execution_count": 2,
   "outputs": [],
   "source": [
    "import networkx as nx\n",
    "import torch\n",
    "import torch_geometric as tg\n",
    "\n",
    "from utils.transforms import EuclideanInformationTransform, OneHot\n",
    "from  models.se3_attention_mechanisms import Se3EquivariantAttentionMechanism\n",
    "\n",
    "import e3nn"
   ],
   "metadata": {
    "collapsed": false
   }
  },
  {
   "cell_type": "markdown",
   "source": [
    "### Let's test the SE3 equivariant version of the GAT"
   ],
   "metadata": {
    "collapsed": false
   }
  },
  {
   "cell_type": "code",
   "execution_count": 3,
   "outputs": [],
   "source": [
    "g = nx.DiGraph()\n",
    "\n",
    "vertices = (0, 1, 2)\n",
    "edges = [(0, 1),\n",
    "         (1, 0),\n",
    "         (1, 2),\n",
    "         (2, 0),\n",
    "         ]\n",
    "\n",
    "z = [0, 1, 2,]\n",
    "pos = [(0.,   0.,  0.),\n",
    "       (-1., -1., -1.),\n",
    "       (1.,   1.,  1.),\n",
    "     ]\n",
    "\n",
    "features = {i: {'z': z[i], 'pos': pos[i]} for i in vertices }\n",
    "\n",
    "for v in vertices:\n",
    "    g.add_node(v)\n",
    "\n",
    "for e in edges:\n",
    "    g.add_edge(*e)\n",
    "\n",
    "nx.set_node_attributes(g, features)\n",
    "\n",
    "graph = tg.utils.from_networkx(g)\n",
    "\n",
    "euc_transform = EuclideanInformationTransform()\n",
    "one_hot_transform = OneHot('z', 'z')\n",
    "transform = tg.transforms.Compose([euc_transform, one_hot_transform])\n",
    "\n",
    "graph = transform(graph)\n"
   ],
   "metadata": {
    "collapsed": false
   }
  },
  {
   "cell_type": "code",
   "execution_count": 4,
   "outputs": [
    {
     "name": "stderr",
     "output_type": "stream",
     "text": [
      "C:\\Users\\niksm\\Documents\\CodeForUni\\venvs\\transformer_invariants\\lib\\site-packages\\torch_geometric\\deprecation.py:22: UserWarning: 'data.DataLoader' is deprecated, use 'loader.DataLoader' instead\n",
      "  warnings.warn(out)\n"
     ]
    }
   ],
   "source": [
    "test_dataloader = tg.data.DataLoader([graph, graph.clone()], batch_size=1)\n",
    "for batch in test_dataloader:\n",
    "    break"
   ],
   "metadata": {
    "collapsed": false
   }
  },
  {
   "cell_type": "code",
   "execution_count": 5,
   "outputs": [
    {
     "name": "stderr",
     "output_type": "stream",
     "text": [
      "C:\\Users\\niksm\\Documents\\CodeForUni\\venvs\\transformer_invariants\\lib\\site-packages\\torch\\jit\\_check.py:181: UserWarning: The TorchScript type system doesn't support instance-level annotations on empty non-base types in `__init__`. Instead, either 1) use a type annotation in the class body, or 2) wrap the type in `torch.jit.Attribute`.\n",
      "  warnings.warn(\"The TorchScript type system doesn't support \"\n"
     ]
    }
   ],
   "source": [
    "feature_irreps = e3nn.o3.Irreps(\"10x0e + 10x1e + 10x2e\")\n",
    "geometric_irreps = e3nn.o3.Irreps(\"3x0e+3x1e+3x2e\")\n",
    "output_irreps = e3nn.o3.Irreps(\"10x0e + 10x1e + 10x2e\")\n",
    "internal_key_query_irreps = e3nn.o3.Irreps(\"5x0e + 5x1e + 5x2e\")\n",
    "\n",
    "\n",
    "net = Se3EquivariantAttentionMechanism(\n",
    "    feature_irreps=feature_irreps,\n",
    "    geometric_irreps=geometric_irreps,\n",
    "    value_out_irreps=output_irreps,\n",
    "    key_and_query_out_irreps=internal_key_query_irreps,\n",
    "    radial_network_hidden_units=16\n",
    ")\n"
   ],
   "metadata": {
    "collapsed": false
   }
  },
  {
   "cell_type": "code",
   "execution_count": 6,
   "outputs": [],
   "source": [
    "embed = torch.nn.Linear(batch.z.shape[1], feature_irreps.dim)\n",
    "features = embed(batch.z.float())\n",
    "edge_harmonics = e3nn.o3.spherical_harmonics(geometric_irreps,\n",
    "                                             batch.relative_positions,\n",
    "                                             normalize=False)"
   ],
   "metadata": {
    "collapsed": false
   }
  },
  {
   "cell_type": "code",
   "execution_count": 7,
   "outputs": [
    {
     "data": {
      "text/plain": "<Figure size 640x480 with 1 Axes>",
      "image/png": "[encoded data removed]"
     },
     "metadata": {},
     "output_type": "display_data"
    }
   ],
   "source": [
    "nx.draw(g)"
   ],
   "metadata": {
    "collapsed": false
   }
  },
  {
   "cell_type": "code",
   "execution_count": 8,
   "outputs": [
    {
     "data": {
      "text/plain": "tensor([[-4.6533e-01,  2.9169e-02,  1.1030e-01, -2.1910e-01,  5.6400e-01,\n          3.4970e-01,  5.4592e-02, -1.5186e-01, -8.3618e-02, -1.4264e-01,\n          3.2143e-01, -9.5461e-02, -1.5481e-01, -1.5274e-02, -1.7367e-02,\n         -5.5257e-02,  1.3632e-03,  1.0703e-01, -2.7452e-01,  3.7344e-02,\n          4.4300e-02,  3.6576e-01,  5.1716e-02,  3.9471e-02,  1.1831e-01,\n         -1.8368e-01, -1.2788e-01, -1.5769e-01,  1.6532e-01, -1.7040e-02,\n         -9.1793e-02, -8.5663e-02,  3.5348e-02,  2.1167e-01,  1.0714e-01,\n          1.0464e-01, -7.0432e-02,  3.9482e-02, -1.8785e-01, -1.6113e-01,\n         -1.1254e-01,  9.2573e-02, -7.8954e-02,  8.4302e-03,  3.6051e-02,\n          5.1913e-02, -6.9304e-02,  4.2047e-02,  1.9246e-02, -2.0556e-02,\n          2.8591e-02,  6.1550e-02, -3.1885e-02,  1.7676e-01, -1.0371e-01,\n         -2.3507e-02,  5.5638e-02,  7.4621e-02, -3.4115e-02, -6.3893e-02,\n          1.0366e-01,  1.6480e-02, -2.0684e-01, -1.8831e-01, -1.0754e-01,\n         -7.3428e-02,  6.5516e-03, -4.5260e-02,  5.9448e-02, -8.7301e-04,\n          1.3979e-02,  3.5808e-02, -7.5718e-02, -6.8029e-02,  1.0494e-01,\n          4.1870e-02,  1.5250e-01, -1.3578e-01,  1.4772e-02, -3.8065e-02,\n          4.6413e-02, -2.3325e-02, -1.7789e-01,  2.5310e-02,  1.4723e-02,\n         -5.7064e-02,  5.8859e-02,  1.4223e-01,  4.9404e-02,  6.9405e-02],\n        [-4.5661e-01,  4.7670e-02,  6.4193e-02, -1.8135e-01,  5.2804e-01,\n          3.1520e-01,  1.0512e-01, -1.5908e-01, -9.1872e-02, -1.3604e-01,\n          3.1291e-01, -9.3939e-02, -1.4065e-01, -2.4745e-04,  1.6913e-03,\n         -3.2337e-02, -9.1248e-03,  9.0337e-02, -2.6781e-01,  4.4820e-02,\n          4.2538e-02,  3.4287e-01,  5.8443e-02,  2.8177e-02,  1.1407e-01,\n         -1.8763e-01, -1.1602e-01, -1.2764e-01,  1.4959e-01, -1.4866e-02,\n         -9.2093e-02, -9.4213e-02,  3.2285e-02,  2.0147e-01,  1.1922e-01,\n          1.0757e-01, -6.3144e-02,  3.5975e-02, -1.7457e-01, -1.5013e-01,\n         -1.0468e-01,  9.4547e-02, -8.0322e-02,  6.3650e-03,  4.3222e-02,\n          4.9964e-02, -7.1835e-02,  3.7802e-02,  6.8435e-03, -1.1218e-02,\n          3.2128e-02,  5.3565e-02, -3.3805e-02,  1.5559e-01, -8.2715e-02,\n         -1.8321e-02,  4.6874e-02,  6.6319e-02, -3.6366e-02, -5.6276e-02,\n          9.8927e-02,  2.0185e-02, -2.0502e-01, -1.6609e-01, -1.0825e-01,\n         -7.3551e-02, -6.4572e-04, -4.3503e-02,  5.3824e-02, -9.8178e-04,\n         -2.7842e-03,  1.8390e-02, -6.5109e-02, -7.1449e-02,  7.9421e-02,\n          3.5195e-02,  1.3969e-01, -1.3888e-01,  1.4117e-02, -2.1445e-02,\n          6.6469e-02, -1.7267e-02, -1.8338e-01,  2.6238e-02,  9.7393e-03,\n         -6.1845e-02,  4.6518e-02,  1.1090e-01,  5.0249e-02,  5.9078e-02],\n        [-6.5407e-01,  1.6230e-01,  5.1188e-01, -1.0031e-01,  4.6417e-01,\n          2.3446e-01,  9.5326e-02,  1.3904e-01,  4.2555e-02, -4.3675e-01,\n          3.8735e-01, -1.3909e-01, -1.5611e-01, -2.2287e-01, -3.1526e-02,\n         -3.3128e-01,  6.0969e-02,  4.9851e-02, -2.5494e-01, -3.9501e-02,\n          7.4602e-02,  2.7629e-01,  1.3208e-01,  4.9641e-04,  4.9868e-02,\n         -2.4763e-01, -2.7588e-01, -3.6289e-01,  2.8017e-01, -4.3490e-02,\n          1.4940e-01,  3.4885e-02, -2.3210e-02,  4.4833e-03,  9.8863e-03,\n          2.0175e-01, -3.8766e-02, -2.7974e-02, -2.2264e-01, -2.4013e-01,\n         -1.2642e-01,  4.9958e-02, -7.9641e-02, -1.4458e-02,  8.1703e-02,\n          1.4266e-01, -1.4100e-01,  2.0611e-01,  3.2682e-02,  2.6625e-02,\n         -2.8306e-02, -3.6456e-02, -6.4686e-02,  2.2564e-01, -1.7900e-01,\n         -2.4283e-03, -6.1640e-02,  7.7861e-02, -1.1600e-01, -7.6117e-02,\n          6.6389e-02,  4.4658e-03, -1.3687e-01, -1.6534e-01,  1.2539e-02,\n          1.2444e-02,  1.2359e-01, -8.4977e-02, -6.4138e-03, -1.7949e-02,\n          1.0394e-01,  1.4836e-01, -3.0086e-02,  3.1508e-02,  5.2764e-02,\n         -1.1835e-02,  1.6941e-01, -2.2078e-01, -1.3365e-01, -2.0486e-01,\n          2.4284e-02,  2.4174e-03, -1.1869e-01,  1.1173e-01,  1.0894e-01,\n          1.1241e-02, -2.3149e-02,  1.8695e-01, -2.6024e-02,  9.3882e-02]],\n       grad_fn=<SliceBackward0>)"
     },
     "execution_count": 8,
     "metadata": {},
     "output_type": "execute_result"
    }
   ],
   "source": [
    "net.forward(edge_index=batch.edge_index,\n",
    "           features=features,\n",
    "           edge_features=edge_harmonics,\n",
    "           distances=batch.distances,\n",
    "           )"
   ],
   "metadata": {
    "collapsed": false
   }
  },
  {
   "cell_type": "markdown",
   "source": [
    "###"
   ],
   "metadata": {
    "collapsed": false
   }
  },
  {
   "cell_type": "code",
   "execution_count": 8,
   "outputs": [],
   "source": [],
   "metadata": {
    "collapsed": false
   }
  }
 ],
 "metadata": {
  "kernelspec": {
   "display_name": "Python 3",
   "language": "python",
   "name": "python3"
  },
  "language_info": {
   "codemirror_mode": {
    "name": "ipython",
    "version": 2
   },
   "file_extension": ".py",
   "mimetype": "text/x-python",
   "name": "python",
   "nbconvert_exporter": "python",
   "pygments_lexer": "ipython2",
   "version": "2.7.6"
  }
 },
 "nbformat": 4,
 "nbformat_minor": 0
}

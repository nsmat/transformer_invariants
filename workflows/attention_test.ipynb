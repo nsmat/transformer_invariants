{
 "cells": [
  {
   "cell_type": "code",
   "execution_count": 1,
   "outputs": [],
   "source": [
    "%load_ext autoreload\n",
    "%autoreload 2"
   ],
   "metadata": {
    "collapsed": false,
    "ExecuteTime": {
     "end_time": "2023-08-08T09:13:45.112799400Z",
     "start_time": "2023-08-08T09:13:45.053412700Z"
    }
   }
  },
  {
   "cell_type": "code",
   "execution_count": 2,
   "outputs": [],
   "source": [
    "import networkx as nx\n",
    "import torch\n",
    "import torch_geometric as tg\n",
    "import numpy as np\n",
    "\n",
    "from utils.transforms import EuclideanInformationTransform, OneHot\n",
    "from  models.se3_attention_mechanisms import Se3EquivariantAttentionMechanism\n",
    "\n",
    "import e3nn"
   ],
   "metadata": {
    "collapsed": false,
    "ExecuteTime": {
     "end_time": "2023-08-08T09:13:50.212770Z",
     "start_time": "2023-08-08T09:13:45.115797Z"
    }
   }
  },
  {
   "cell_type": "markdown",
   "source": [
    "### Let's test the SE3 equivariant version of the GAT"
   ],
   "metadata": {
    "collapsed": false
   }
  },
  {
   "cell_type": "code",
   "execution_count": 3,
   "outputs": [],
   "source": [
    "g = nx.DiGraph()\n",
    "\n",
    "vertices = (0, 1, 2)\n",
    "edges = [(0, 1),\n",
    "         (1, 0),\n",
    "         (1, 2),\n",
    "         (2, 0),\n",
    "         ]\n",
    "\n",
    "z = [0, 1, 2,]\n",
    "pos = [(0.,   0.,  0.),\n",
    "       (-1., -1., -1.),\n",
    "       (1.,   1.,  1.),\n",
    "     ]\n",
    "\n",
    "features = {i: {'z': z[i], 'pos': pos[i]} for i in vertices }\n",
    "\n",
    "for v in vertices:\n",
    "    g.add_node(v)\n",
    "\n",
    "for e in edges:\n",
    "    g.add_edge(*e)\n",
    "\n",
    "nx.set_node_attributes(g, features)\n",
    "\n",
    "graph = tg.utils.from_networkx(g)\n",
    "\n",
    "euc_transform = EuclideanInformationTransform()\n",
    "one_hot_transform = OneHot('z', 'z')\n",
    "transform = tg.transforms.Compose([euc_transform, one_hot_transform])\n",
    "\n",
    "graph = transform(graph)\n"
   ],
   "metadata": {
    "collapsed": false,
    "ExecuteTime": {
     "end_time": "2023-08-08T09:13:50.428091300Z",
     "start_time": "2023-08-08T09:13:50.217770600Z"
    }
   }
  },
  {
   "cell_type": "code",
   "execution_count": 4,
   "outputs": [
    {
     "name": "stderr",
     "output_type": "stream",
     "text": [
      "C:\\Users\\niksm\\Documents\\CodeForUni\\venvs\\transformer_invariants\\lib\\site-packages\\torch_geometric\\deprecation.py:22: UserWarning: 'data.DataLoader' is deprecated, use 'loader.DataLoader' instead\n",
      "  warnings.warn(out)\n"
     ]
    }
   ],
   "source": [
    "test_dataloader = tg.data.DataLoader([graph, graph.clone()], batch_size=1)\n",
    "for batch in test_dataloader:\n",
    "    break"
   ],
   "metadata": {
    "collapsed": false,
    "ExecuteTime": {
     "end_time": "2023-08-08T09:13:50.574611500Z",
     "start_time": "2023-08-08T09:13:50.433091800Z"
    }
   }
  },
  {
   "cell_type": "code",
   "execution_count": 5,
   "outputs": [
    {
     "name": "stderr",
     "output_type": "stream",
     "text": [
      "C:\\Users\\niksm\\Documents\\CodeForUni\\venvs\\transformer_invariants\\lib\\site-packages\\torch\\jit\\_check.py:181: UserWarning: The TorchScript type system doesn't support instance-level annotations on empty non-base types in `__init__`. Instead, either 1) use a type annotation in the class body, or 2) wrap the type in `torch.jit.Attribute`.\n",
      "  warnings.warn(\"The TorchScript type system doesn't support \"\n"
     ]
    }
   ],
   "source": [
    "feature_irreps = e3nn.o3.Irreps(\"10x0e + 10x1e + 10x2e\")\n",
    "geometric_irreps = e3nn.o3.Irreps(\"3x0e+3x1e+3x2e\")\n",
    "output_irreps = e3nn.o3.Irreps(\"10x0e + 10x1e + 10x2e\")\n",
    "internal_key_query_irreps = e3nn.o3.Irreps(\"5x0e + 5x1e + 5x2e\")\n",
    "\n",
    "\n",
    "net = Se3EquivariantAttentionMechanism(\n",
    "    feature_irreps=feature_irreps,\n",
    "    geometric_irreps=geometric_irreps,\n",
    "    value_out_irreps=output_irreps,\n",
    "    key_and_query_out_irreps=internal_key_query_irreps,\n",
    "    radial_network_hidden_units=16\n",
    ")\n"
   ],
   "metadata": {
    "collapsed": false,
    "ExecuteTime": {
     "end_time": "2023-08-08T09:13:51.329174900Z",
     "start_time": "2023-08-08T09:13:50.575620400Z"
    }
   }
  },
  {
   "cell_type": "code",
   "execution_count": 6,
   "outputs": [],
   "source": [
    "from tests.test_attention_mechanism_equivariance import GraphInputEquivarianceTest\n",
    "alpha, beta, gamma = e3nn.o3.rand_angles(1)"
   ],
   "metadata": {
    "collapsed": false,
    "ExecuteTime": {
     "end_time": "2023-08-08T09:13:51.502298Z",
     "start_time": "2023-08-08T09:13:51.334175200Z"
    }
   }
  },
  {
   "cell_type": "code",
   "execution_count": 7,
   "outputs": [],
   "source": [
    "# For normal inputs\n",
    "embed = torch.nn.Linear(batch.z.shape[1], feature_irreps.dim)\n",
    "features = embed(batch.z.float())\n",
    "edge_harmonics = e3nn.o3.spherical_harmonics(geometric_irreps,\n",
    "                                             batch.relative_positions,\n",
    "                                             normalize=False\n",
    "                                             )\n",
    "\n",
    "output = net.forward(edge_index=batch.edge_index,\n",
    "           features=features,\n",
    "           edge_features=edge_harmonics,\n",
    "           distances=batch.distances,\n",
    "           )\n",
    "\n",
    "rotation_matrix_for_output = output_irreps.D_from_angles(alpha, beta, gamma)\n",
    "rotated_output = output @ rotation_matrix_for_output"
   ],
   "metadata": {
    "collapsed": false,
    "ExecuteTime": {
     "end_time": "2023-08-08T09:13:52.377428200Z",
     "start_time": "2023-08-08T09:13:51.509296600Z"
    }
   }
  },
  {
   "cell_type": "code",
   "execution_count": 14,
   "outputs": [],
   "source": [
    "# Alternative way of getting the rotated harmonics\n",
    "edge_harmonic_rotater = geometric_irreps.D_from_angles(alpha, beta, gamma).squeeze(0)\n",
    "rotated_edge_harmonics =  edge_harmonics @ edge_harmonic_rotater\n",
    "\n",
    "feature_rotater = feature_irreps.D_from_angles(alpha, beta, gamma).squeeze(0)\n",
    "rotated_features = features @ feature_rotater\n",
    "\n",
    "output_from_rotated = net.forward(\n",
    "           edge_index=batch.edge_index,\n",
    "           features=rotated_features,\n",
    "           edge_features=rotated_edge_harmonics,\n",
    "           distances=batch.distances,\n",
    "           )\n"
   ],
   "metadata": {
    "collapsed": false,
    "ExecuteTime": {
     "end_time": "2023-08-08T09:17:41.030903200Z",
     "start_time": "2023-08-08T09:17:40.848254500Z"
    }
   }
  },
  {
   "cell_type": "code",
   "execution_count": 16,
   "outputs": [
    {
     "data": {
      "text/plain": "tensor(2.2054e-06, grad_fn=<MaxBackward1>)"
     },
     "execution_count": 16,
     "metadata": {},
     "output_type": "execute_result"
    }
   ],
   "source": [
    "(rotated_output - output_from_rotated).max()"
   ],
   "metadata": {
    "collapsed": false,
    "ExecuteTime": {
     "end_time": "2023-08-08T09:17:48.323511Z",
     "start_time": "2023-08-08T09:17:48.138820200Z"
    }
   }
  },
  {
   "cell_type": "code",
   "execution_count": 10,
   "outputs": [],
   "source": [
    "# For rotated inputs\n",
    "rotated_graph = batch.clone()\n",
    "rotation_matrix = e3nn.o3._rotation.angles_to_matrix(alpha, beta, gamma)\n",
    "rotated_graph.relative_positions = (rotation_matrix @ rotated_graph.relative_positions.unsqueeze(-1)).squeeze(-1)\n",
    "\n",
    "edge_harmonics_from_rotated = e3nn.o3.spherical_harmonics(geometric_irreps,\n",
    "                                                     rotated_graph.relative_positions,\n",
    "                                                     normalize=False)\n"
   ],
   "metadata": {
    "collapsed": false,
    "ExecuteTime": {
     "end_time": "2023-08-08T09:13:54.399401900Z",
     "start_time": "2023-08-08T09:13:53.282131200Z"
    }
   }
  },
  {
   "cell_type": "code",
   "execution_count": null,
   "outputs": [],
   "source": [],
   "metadata": {
    "collapsed": false
   }
  }
 ],
 "metadata": {
  "kernelspec": {
   "display_name": "Python 3",
   "language": "python",
   "name": "python3"
  },
  "language_info": {
   "codemirror_mode": {
    "name": "ipython",
    "version": 2
   },
   "file_extension": ".py",
   "mimetype": "text/x-python",
   "name": "python",
   "nbconvert_exporter": "python",
   "pygments_lexer": "ipython2",
   "version": "2.7.6"
  }
 },
 "nbformat": 4,
 "nbformat_minor": 0
}

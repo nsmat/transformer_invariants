{
 "cells": [
  {
   "cell_type": "code",
   "execution_count": 1,
   "metadata": {
    "collapsed": true,
    "ExecuteTime": {
     "end_time": "2023-08-06T14:35:33.616242500Z",
     "start_time": "2023-08-06T14:35:25.061256200Z"
    }
   },
   "outputs": [],
   "source": [
    "import networkx as nx\n",
    "import torch\n",
    "import torch_geometric as tg\n",
    "\n",
    "from utils.transforms import EuclideanInformationTransform, OneHot\n",
    "from models.tensor_field_networks import RadiallyParamaterisedTensorProduct, QueryNetwork\n",
    "\n",
    "import e3nn"
   ]
  },
  {
   "cell_type": "code",
   "execution_count": 2,
   "outputs": [],
   "source": [
    "class ToyTransformer(tg.nn.MessagePassing):\n",
    "\n",
    "    def __init__(self, K, Q, V):\n",
    "        super().__init__(aggr='add')\n",
    "        self.K = K\n",
    "        self.Q = torch.nn.Identity()\n",
    "        self.V = torch.nn.Identity()\n",
    "\n",
    "    # Should replace these adaptors with a 'graph adapted' subclass of the parent\n",
    "    def K_adaptor(self, edge_index, features, geometric_information, distances):\n",
    "        source_indices = edge_index[0, :]\n",
    "        source_features = features[source_indices]\n",
    "\n",
    "        # Key queries, represented as a set of edge features\n",
    "        k_uv = K.forward(source_features,\n",
    "                         geometric_information,\n",
    "                         distances)\n",
    "        return k_uv\n",
    "\n",
    "    def V_adaptor(self, edge_index, features, geometric_information, distances):\n",
    "        source_indices = edge_index[0, :]\n",
    "        source_features = features[source_indices]\n",
    "\n",
    "        # Key queries, represented as a set of edge features\n",
    "        k_uv = K.forward(source_features,\n",
    "                         geometric_information,\n",
    "                         distances)\n",
    "        return k_uv\n",
    "\n",
    "\n",
    "\n",
    "    def forward(self, edge_index, features, geometric_information, distances):\n",
    "        k_uv = self.K_adaptor(edge_index, features, geometric_information, distances)\n",
    "\n",
    "        # alpha =  k_ij @ q.T\n",
    "        # alpha = torch.nn.functional.softmax(alpha, dim=1)\n",
    "        return self.propagate(edge_index, x=x, alpha=alpha, v=v)\n",
    "\n",
    "\n",
    "    def message(self, alpha, v_j, edge_index):\n",
    "        \"\"\"\n",
    "        Absolutely horrendous - v_j is the value of each message, and it is\n",
    "        actually a tensor as long as there are edges in the graph.\n",
    "        Thus, we need to reference the edge index and reshape alpha into\n",
    "        a shape that reflects the edge structure.\n",
    "\n",
    "        awful awful awful\n",
    "        \"\"\"\n",
    "\n",
    "        alpha_j = alpha[edge_index[0, :], edge_index[1, :]]\n",
    "        alpha_j = alpha_j.reshape(alpha_j.shape[0], 1)\n",
    "\n",
    "        return alpha_j*v_j\n"
   ],
   "metadata": {
    "collapsed": false,
    "ExecuteTime": {
     "end_time": "2023-08-06T14:35:33.683771800Z",
     "start_time": "2023-08-06T14:35:33.633498Z"
    }
   }
  },
  {
   "cell_type": "code",
   "execution_count": 3,
   "outputs": [],
   "source": [
    "g = nx.DiGraph()\n",
    "\n",
    "vertices = (0, 1, 2, 3)\n",
    "edges = [(0, 1),\n",
    "         (1, 2),\n",
    "         (2, 0),\n",
    "         (2, 3),\n",
    "         (3, 0)\n",
    "         ]\n",
    "z = [0, 1, 2, 1]\n",
    "pos = [(0.,   0.,  0.),\n",
    "             (-1., -1., -1.),\n",
    "             (1.,   1.,  1.),\n",
    "             (2.,   2.,  2.),\n",
    "             ]\n",
    "\n",
    "features = {i: {'z': z[i], 'pos': pos[i]} for i in vertices }\n",
    "\n",
    "for v in vertices:\n",
    "    g.add_node(v)\n",
    "\n",
    "for e in edges:\n",
    "    g.add_edge(*e)\n",
    "\n",
    "nx.set_node_attributes(g, features)\n",
    "\n",
    "graph = tg.utils.from_networkx(g)\n",
    "\n",
    "euc_transform = EuclideanInformationTransform()\n",
    "one_hot_transform = OneHot('z', 'z')\n",
    "transform = tg.transforms.Compose([euc_transform, one_hot_transform])\n",
    "\n",
    "graph = transform(graph)\n"
   ],
   "metadata": {
    "collapsed": false,
    "ExecuteTime": {
     "end_time": "2023-08-06T14:35:33.804358200Z",
     "start_time": "2023-08-06T14:35:33.673540300Z"
    }
   }
  },
  {
   "cell_type": "code",
   "execution_count": 4,
   "outputs": [
    {
     "name": "stderr",
     "output_type": "stream",
     "text": [
      "C:\\Users\\niksm\\Documents\\CodeForUni\\venvs\\transformer_invariants\\lib\\site-packages\\torch_geometric\\deprecation.py:22: UserWarning: 'data.DataLoader' is deprecated, use 'loader.DataLoader' instead\n",
      "  warnings.warn(out)\n"
     ]
    }
   ],
   "source": [
    "test_dataloader = tg.data.DataLoader([graph, graph.clone()], batch_size=1)\n",
    "for batch in test_dataloader:\n",
    "    break"
   ],
   "metadata": {
    "collapsed": false,
    "ExecuteTime": {
     "end_time": "2023-08-06T14:35:33.907553300Z",
     "start_time": "2023-08-06T14:35:33.815890100Z"
    }
   }
  },
  {
   "cell_type": "code",
   "execution_count": 5,
   "outputs": [
    {
     "name": "stderr",
     "output_type": "stream",
     "text": [
      "C:\\Users\\niksm\\Documents\\CodeForUni\\venvs\\transformer_invariants\\lib\\site-packages\\torch\\jit\\_check.py:181: UserWarning: The TorchScript type system doesn't support instance-level annotations on empty non-base types in `__init__`. Instead, either 1) use a type annotation in the class body, or 2) wrap the type in `torch.jit.Attribute`.\n",
      "  warnings.warn(\"The TorchScript type system doesn't support \"\n"
     ]
    }
   ],
   "source": [
    "feature_irreps = e3nn.o3.Irreps(\"10x0e + 10x1e + 10x2e\")\n",
    "geometric_irreps = e3nn.o3.Irreps(\"3x0e+3x1e+3x2e\")\n",
    "output_irreps = e3nn.o3.Irreps(\"10x0e + 10x1e + 10x2e\")\n",
    "internal_key_query_irreps = e3nn.o3.Irreps(\"5x0e + 5x1e + 5x2e\")\n",
    "\n",
    "K = RadiallyParamaterisedTensorProduct(feature_irreps,\n",
    "                                      geometric_irreps,\n",
    "                                      internal_key_query_irreps,\n",
    "                                      radial_hidden_units=16\n",
    "                                      )\n",
    "Q = QueryNetwork(feature_irreps,\n",
    "                 internal_key_query_irreps)\n",
    "\n",
    "V = RadiallyParamaterisedTensorProduct(feature_irreps,\n",
    "                                       geometric_irreps,\n",
    "                                       output_irreps,\n",
    "                                       radial_hidden_units=16)\n",
    "\n",
    "\n",
    "embed = torch.nn.Linear(batch.z.shape[1], feature_irreps.dim)\n",
    "features = embed(batch.z.float())\n",
    "edge_harmonics = e3nn.o3.spherical_harmonics(geometric_irreps,\n",
    "                                             batch.relative_positions,\n",
    "                                             normalize=False)\n",
    "\n",
    "tt = ToyTransformer(Q=Q, K=K, V=V)\n",
    "\n"
   ],
   "metadata": {
    "collapsed": false,
    "ExecuteTime": {
     "end_time": "2023-08-06T14:35:35.248407700Z",
     "start_time": "2023-08-06T14:35:33.869434600Z"
    }
   }
  },
  {
   "cell_type": "code",
   "execution_count": 6,
   "outputs": [],
   "source": [
    "weights = K.radial_net(batch.distances)\n",
    "source_indices = batch.edge_index[0, :]\n",
    "source_features = features[source_indices]\n",
    "\n",
    "k_uv = K.tensor_product(source_features,\n",
    "                 edge_harmonics,\n",
    "                 weights)"
   ],
   "metadata": {
    "collapsed": false,
    "ExecuteTime": {
     "end_time": "2023-08-06T14:35:35.326124600Z",
     "start_time": "2023-08-06T14:35:35.251409900Z"
    }
   }
  },
  {
   "cell_type": "code",
   "execution_count": 7,
   "outputs": [
    {
     "data": {
      "text/plain": "tensor(True)"
     },
     "execution_count": 7,
     "metadata": {},
     "output_type": "execute_result"
    }
   ],
   "source": [
    "(K(source_features, edge_harmonics, batch.distances) == k_uv).all()"
   ],
   "metadata": {
    "collapsed": false,
    "ExecuteTime": {
     "end_time": "2023-08-06T14:35:35.423400300Z",
     "start_time": "2023-08-06T14:35:35.328133200Z"
    }
   }
  },
  {
   "cell_type": "code",
   "execution_count": 8,
   "outputs": [
    {
     "data": {
      "text/plain": "tensor([[ 3.3037e-01, -7.4980e-01,  4.3395e-01,  3.6405e-01, -5.8631e-02,\n         -5.3934e-01, -3.0915e-01, -1.0250e+00,  3.2032e-01,  5.6237e-01,\n          5.5003e-01,  4.0327e-01, -6.3422e-04,  2.6351e-01, -1.6178e-01,\n         -4.2415e-01,  8.4053e-01,  8.1346e-01, -8.2944e-01, -2.7472e-01,\n          4.5746e-01,  3.2546e-01,  8.5883e-01,  3.6332e-01,  5.2407e-02,\n         -6.7889e-01,  1.3784e-01,  3.7491e-02, -2.9573e-02, -1.0870e-01,\n          5.0632e-01, -8.5697e-01,  6.1405e-01, -6.4359e-01,  4.7958e-01,\n         -9.0270e-02, -3.4762e-02, -8.0660e-01,  4.1118e-01,  3.3420e-02,\n         -8.2740e-01, -7.7128e-01, -6.1208e-01, -2.7663e-01,  1.7288e-02,\n          1.2395e-01, -1.0792e+00,  5.6299e-02, -1.0036e+00,  4.7238e-01,\n          2.6964e-01,  3.6934e-01,  3.1888e-02, -7.6808e-01,  1.1107e+00,\n         -7.4334e-01,  4.0324e-01, -7.6760e-01,  4.1159e-01,  1.9941e-01,\n          6.4150e-01,  2.8485e-02,  3.3016e-01, -1.5398e-01,  5.7032e-02,\n          7.4063e-01, -4.5163e-01,  2.0148e-01,  3.4461e-01,  6.0998e-01,\n         -5.8617e-01, -7.3628e-02,  7.2519e-01,  3.0784e-01, -2.0649e-01,\n         -1.3264e-01, -1.0373e+00,  7.1389e-01,  5.8579e-01,  2.0050e-01,\n         -3.4989e-01, -2.3219e-01, -2.4079e-01, -3.0896e-02,  7.2130e-01,\n         -2.1476e-01,  5.0981e-01,  1.0995e-01,  7.4346e-01,  6.8498e-01],\n        [ 4.6305e-01,  2.7535e-01,  4.5286e-01,  5.9260e-01, -1.9002e-04,\n          3.6540e-01, -5.5317e-01, -1.0155e+00,  1.2828e-01,  6.1569e-01,\n          4.8320e-01,  4.6201e-01,  2.9231e-01,  6.1243e-02, -1.2896e-01,\n         -6.2482e-01,  5.8848e-01,  4.0125e-01, -2.7871e-01,  6.5582e-01,\n          6.9125e-01, -1.1987e-01,  2.4815e-02,  6.6265e-01, -6.3291e-02,\n         -9.8236e-01,  1.5193e-01, -1.4759e-01,  1.1380e-01,  2.1854e-02,\n          6.9561e-01,  1.2801e-01,  6.1300e-01, -3.9151e-01, -1.4161e-01,\n          1.5225e-01, -2.2258e-01, -6.1727e-02,  6.0142e-01,  4.2562e-01,\n         -7.5346e-01, -3.2252e-01, -4.1581e-01, -2.1708e-01,  2.7798e-01,\n          5.8575e-02, -1.1178e+00, -1.2748e-01, -7.4939e-01,  7.2885e-01,\n          1.1521e-02, -1.7190e-01, -7.5056e-01, -4.7637e-01,  2.8840e-01,\n         -1.6850e-01, -4.9415e-01, -3.2009e-01, -5.6341e-01, -7.5634e-01,\n         -4.6858e-01, -4.5474e-01,  2.9984e-01, -6.4741e-01, -1.2665e-01,\n          5.7610e-01,  7.5064e-02,  5.9127e-01, -2.3564e-02,  1.0121e+00,\n         -4.6382e-01,  8.9673e-01,  2.2153e-01,  1.8406e-01, -6.7360e-01,\n         -7.4428e-01, -3.2153e-01, -1.5219e-01,  4.9151e-03, -5.1679e-01,\n         -3.5220e-01, -5.8267e-01,  3.7059e-01, -4.4770e-01, -1.8070e-01,\n         -1.1966e-01,  5.2936e-01,  4.2831e-01,  5.4756e-01,  1.0551e-01],\n        [-1.4309e-01, -2.4533e-01,  2.6362e-01,  2.6691e-01, -1.5820e-01,\n         -4.8209e-01, -3.0364e-01, -2.5443e-01, -2.6010e-01,  8.2924e-01,\n          4.5903e-01,  4.9900e-01, -5.5574e-01, -5.9958e-01, -2.6084e-01,\n         -4.9805e-01,  7.7406e-01,  8.9880e-01, -4.4263e-02,  1.6380e-01,\n          6.7560e-01,  5.6170e-01,  8.8029e-02,  3.0236e-01, -2.6621e-02,\n         -3.7581e-01, -4.2640e-01, -2.2080e-02, -2.3429e-01, -1.8712e-01,\n          5.0103e-01, -1.4423e-02, -1.8614e-01, -2.0578e-01, -4.2249e-01,\n          5.0612e-01, -1.0532e+00, -1.9588e-02, -2.2778e-01,  2.5858e-01,\n         -2.7609e-01, -7.3810e-01, -1.4432e-01,  6.8827e-01,  4.7701e-01,\n          1.7360e-01, -9.8172e-02, -1.2657e-01, -7.4664e-01, -2.1191e-01,\n          1.5273e-01, -6.8873e-02, -7.3791e-02, -1.6469e-01,  1.0299e+00,\n         -1.8882e-01,  3.5037e-01, -4.2639e-01,  5.8578e-02, -4.2407e-01,\n          7.4484e-02, -3.8641e-02,  3.1408e-01, -2.3919e-01, -3.0849e-01,\n          6.9878e-01, -3.8435e-01,  7.0567e-01,  3.6908e-01,  9.2472e-01,\n         -6.4389e-01,  7.0324e-01,  4.5671e-01,  7.1187e-02, -5.7033e-01,\n         -7.0463e-01, -3.4315e-01,  6.4141e-01,  3.9924e-01,  2.4716e-01,\n         -1.4416e-01,  1.5186e-01,  9.8630e-02,  4.4328e-01,  5.7783e-01,\n         -2.7828e-01,  3.6866e-01,  5.1661e-01,  8.0539e-01,  1.1080e-01],\n        [ 4.6305e-01,  2.7535e-01,  4.5286e-01,  5.9260e-01, -1.9002e-04,\n          3.6540e-01, -5.5317e-01, -1.0155e+00,  1.2828e-01,  6.1569e-01,\n          4.8320e-01,  4.6201e-01,  2.9231e-01,  6.1243e-02, -1.2896e-01,\n         -6.2482e-01,  5.8848e-01,  4.0125e-01, -2.7871e-01,  6.5582e-01,\n          6.9125e-01, -1.1987e-01,  2.4815e-02,  6.6265e-01, -6.3291e-02,\n         -9.8236e-01,  1.5193e-01, -1.4759e-01,  1.1380e-01,  2.1854e-02,\n          6.9561e-01,  1.2801e-01,  6.1300e-01, -3.9151e-01, -1.4161e-01,\n          1.5225e-01, -2.2258e-01, -6.1727e-02,  6.0142e-01,  4.2562e-01,\n         -7.5346e-01, -3.2252e-01, -4.1581e-01, -2.1708e-01,  2.7798e-01,\n          5.8575e-02, -1.1178e+00, -1.2748e-01, -7.4939e-01,  7.2885e-01,\n          1.1521e-02, -1.7190e-01, -7.5056e-01, -4.7637e-01,  2.8840e-01,\n         -1.6850e-01, -4.9415e-01, -3.2009e-01, -5.6341e-01, -7.5634e-01,\n         -4.6858e-01, -4.5474e-01,  2.9984e-01, -6.4741e-01, -1.2665e-01,\n          5.7610e-01,  7.5064e-02,  5.9127e-01, -2.3564e-02,  1.0121e+00,\n         -4.6382e-01,  8.9673e-01,  2.2153e-01,  1.8406e-01, -6.7360e-01,\n         -7.4428e-01, -3.2153e-01, -1.5219e-01,  4.9151e-03, -5.1679e-01,\n         -3.5220e-01, -5.8267e-01,  3.7059e-01, -4.4770e-01, -1.8070e-01,\n         -1.1966e-01,  5.2936e-01,  4.2831e-01,  5.4756e-01,  1.0551e-01]],\n       grad_fn=<AddmmBackward0>)"
     },
     "execution_count": 8,
     "metadata": {},
     "output_type": "execute_result"
    }
   ],
   "source": [
    "features"
   ],
   "metadata": {
    "collapsed": false,
    "ExecuteTime": {
     "end_time": "2023-08-06T14:35:35.495235500Z",
     "start_time": "2023-08-06T14:35:35.423906600Z"
    }
   }
  },
  {
   "cell_type": "code",
   "execution_count": 9,
   "outputs": [
    {
     "data": {
      "text/plain": "1"
     },
     "execution_count": 9,
     "metadata": {},
     "output_type": "execute_result"
    }
   ],
   "source": [
    "Q.tensor_product._in2_dim"
   ],
   "metadata": {
    "collapsed": false,
    "ExecuteTime": {
     "end_time": "2023-08-06T14:35:35.495235500Z",
     "start_time": "2023-08-06T14:35:35.482194400Z"
    }
   }
  },
  {
   "cell_type": "code",
   "execution_count": 10,
   "outputs": [
    {
     "data": {
      "text/plain": "torch.Size([1])"
     },
     "execution_count": 10,
     "metadata": {},
     "output_type": "execute_result"
    }
   ],
   "source": [
    "Q.constant.shape"
   ],
   "metadata": {
    "collapsed": false,
    "ExecuteTime": {
     "end_time": "2023-08-06T14:35:35.503243600Z",
     "start_time": "2023-08-06T14:35:35.488726200Z"
    }
   }
  },
  {
   "cell_type": "code",
   "execution_count": 11,
   "outputs": [],
   "source": [
    "# One row for each edge!\n",
    "q = Q.forward(features)"
   ],
   "metadata": {
    "collapsed": false,
    "ExecuteTime": {
     "end_time": "2023-08-06T14:35:35.575373400Z",
     "start_time": "2023-08-06T14:35:35.503750100Z"
    }
   }
  },
  {
   "cell_type": "markdown",
   "source": [
    "###"
   ],
   "metadata": {
    "collapsed": false
   }
  },
  {
   "cell_type": "code",
   "execution_count": 14,
   "outputs": [
    {
     "data": {
      "text/plain": "torch.Size([4, 45])"
     },
     "execution_count": 14,
     "metadata": {},
     "output_type": "execute_result"
    }
   ],
   "source": [
    "q.shape"
   ],
   "metadata": {
    "collapsed": false,
    "ExecuteTime": {
     "end_time": "2023-08-06T14:36:41.567300500Z",
     "start_time": "2023-08-06T14:36:41.541436100Z"
    }
   }
  },
  {
   "cell_type": "code",
   "execution_count": 12,
   "outputs": [
    {
     "ename": "NameError",
     "evalue": "name 'x' is not defined",
     "output_type": "error",
     "traceback": [
      "\u001B[1;31m---------------------------------------------------------------------------\u001B[0m",
      "\u001B[1;31mNameError\u001B[0m                                 Traceback (most recent call last)",
      "Cell \u001B[1;32mIn[12], line 1\u001B[0m\n\u001B[1;32m----> 1\u001B[0m \u001B[43mtt\u001B[49m\u001B[38;5;241;43m.\u001B[39;49m\u001B[43mforward\u001B[49m\u001B[43m(\u001B[49m\n\u001B[0;32m      2\u001B[0m \u001B[43m    \u001B[49m\u001B[43mbatch\u001B[49m\u001B[38;5;241;43m.\u001B[39;49m\u001B[43medge_index\u001B[49m\u001B[43m,\u001B[49m\n\u001B[0;32m      3\u001B[0m \u001B[43m    \u001B[49m\u001B[43mfeatures\u001B[49m\u001B[43m,\u001B[49m\n\u001B[0;32m      4\u001B[0m \u001B[43m    \u001B[49m\u001B[43medge_harmonics\u001B[49m\u001B[43m,\u001B[49m\n\u001B[0;32m      5\u001B[0m \u001B[43m    \u001B[49m\u001B[43mgraph\u001B[49m\u001B[38;5;241;43m.\u001B[39;49m\u001B[43mdistances\u001B[49m\u001B[43m,\u001B[49m\n\u001B[0;32m      6\u001B[0m \u001B[43m    \u001B[49m\u001B[43m)\u001B[49m\n",
      "Cell \u001B[1;32mIn[2], line 37\u001B[0m, in \u001B[0;36mToyTransformer.forward\u001B[1;34m(self, edge_index, features, geometric_information, distances)\u001B[0m\n\u001B[0;32m     33\u001B[0m k_uv \u001B[38;5;241m=\u001B[39m \u001B[38;5;28mself\u001B[39m\u001B[38;5;241m.\u001B[39mK_adaptor(edge_index, features, geometric_information, distances)\n\u001B[0;32m     35\u001B[0m \u001B[38;5;66;03m# alpha =  k_ij @ q.T\u001B[39;00m\n\u001B[0;32m     36\u001B[0m \u001B[38;5;66;03m# alpha = torch.nn.functional.softmax(alpha, dim=1)\u001B[39;00m\n\u001B[1;32m---> 37\u001B[0m \u001B[38;5;28;01mreturn\u001B[39;00m \u001B[38;5;28mself\u001B[39m\u001B[38;5;241m.\u001B[39mpropagate(edge_index, x\u001B[38;5;241m=\u001B[39m\u001B[43mx\u001B[49m, alpha\u001B[38;5;241m=\u001B[39malpha, v\u001B[38;5;241m=\u001B[39mv)\n",
      "\u001B[1;31mNameError\u001B[0m: name 'x' is not defined"
     ]
    }
   ],
   "source": [
    "tt.forward(\n",
    "    batch.edge_index,\n",
    "    features,\n",
    "    edge_harmonics,\n",
    "    graph.distances,\n",
    "    )"
   ],
   "metadata": {
    "collapsed": false,
    "ExecuteTime": {
     "end_time": "2023-08-06T14:35:36.916309100Z",
     "start_time": "2023-08-06T14:35:35.518281100Z"
    }
   }
  },
  {
   "cell_type": "code",
   "execution_count": null,
   "outputs": [],
   "source": [],
   "metadata": {
    "collapsed": false
   }
  }
 ],
 "metadata": {
  "kernelspec": {
   "display_name": "Python 3",
   "language": "python",
   "name": "python3"
  },
  "language_info": {
   "codemirror_mode": {
    "name": "ipython",
    "version": 2
   },
   "file_extension": ".py",
   "mimetype": "text/x-python",
   "name": "python",
   "nbconvert_exporter": "python",
   "pygments_lexer": "ipython2",
   "version": "2.7.6"
  }
 },
 "nbformat": 4,
 "nbformat_minor": 0
}

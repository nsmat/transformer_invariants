{
 "cells": [
  {
   "cell_type": "code",
   "execution_count": 1,
   "outputs": [],
   "source": [
    "%load_ext autoreload\n",
    "%autoreload 2"
   ],
   "metadata": {
    "collapsed": false
   }
  },
  {
   "cell_type": "code",
   "execution_count": 15,
   "outputs": [],
   "source": [
    "import networkx as nx\n",
    "import torch\n",
    "import torch_geometric as tg\n",
    "import numpy as np\n",
    "\n",
    "from utils.transforms import EuclideanInformationTransform, OneHot\n",
    "from  models.se3_attention_mechanisms import Se3EquivariantAttentionMechanism\n",
    "\n",
    "import e3nn"
   ],
   "metadata": {
    "collapsed": false,
    "ExecuteTime": {
     "end_time": "2023-08-07T18:33:46.590979700Z",
     "start_time": "2023-08-07T18:33:46.471494300Z"
    }
   }
  },
  {
   "cell_type": "markdown",
   "source": [
    "### Let's test the SE3 equivariant version of the GAT"
   ],
   "metadata": {
    "collapsed": false
   }
  },
  {
   "cell_type": "code",
   "execution_count": 3,
   "outputs": [],
   "source": [
    "g = nx.DiGraph()\n",
    "\n",
    "vertices = (0, 1, 2)\n",
    "edges = [(0, 1),\n",
    "         (1, 0),\n",
    "         (1, 2),\n",
    "         (2, 0),\n",
    "         ]\n",
    "\n",
    "z = [0, 1, 2,]\n",
    "pos = [(0.,   0.,  0.),\n",
    "       (-1., -1., -1.),\n",
    "       (1.,   1.,  1.),\n",
    "     ]\n",
    "\n",
    "features = {i: {'z': z[i], 'pos': pos[i]} for i in vertices }\n",
    "\n",
    "for v in vertices:\n",
    "    g.add_node(v)\n",
    "\n",
    "for e in edges:\n",
    "    g.add_edge(*e)\n",
    "\n",
    "nx.set_node_attributes(g, features)\n",
    "\n",
    "graph = tg.utils.from_networkx(g)\n",
    "\n",
    "euc_transform = EuclideanInformationTransform()\n",
    "one_hot_transform = OneHot('z', 'z')\n",
    "transform = tg.transforms.Compose([euc_transform, one_hot_transform])\n",
    "\n",
    "graph = transform(graph)\n"
   ],
   "metadata": {
    "collapsed": false
   }
  },
  {
   "cell_type": "code",
   "execution_count": 4,
   "outputs": [
    {
     "name": "stderr",
     "output_type": "stream",
     "text": [
      "C:\\Users\\niksm\\Documents\\CodeForUni\\venvs\\transformer_invariants\\lib\\site-packages\\torch_geometric\\deprecation.py:22: UserWarning: 'data.DataLoader' is deprecated, use 'loader.DataLoader' instead\n",
      "  warnings.warn(out)\n"
     ]
    }
   ],
   "source": [
    "test_dataloader = tg.data.DataLoader([graph, graph.clone()], batch_size=1)\n",
    "for batch in test_dataloader:\n",
    "    break"
   ],
   "metadata": {
    "collapsed": false
   }
  },
  {
   "cell_type": "code",
   "execution_count": 5,
   "outputs": [
    {
     "name": "stderr",
     "output_type": "stream",
     "text": [
      "C:\\Users\\niksm\\Documents\\CodeForUni\\venvs\\transformer_invariants\\lib\\site-packages\\torch\\jit\\_check.py:181: UserWarning: The TorchScript type system doesn't support instance-level annotations on empty non-base types in `__init__`. Instead, either 1) use a type annotation in the class body, or 2) wrap the type in `torch.jit.Attribute`.\n",
      "  warnings.warn(\"The TorchScript type system doesn't support \"\n"
     ]
    }
   ],
   "source": [
    "feature_irreps = e3nn.o3.Irreps(\"10x0e + 10x1e + 10x2e\")\n",
    "geometric_irreps = e3nn.o3.Irreps(\"3x0e+3x1e+3x2e\")\n",
    "output_irreps = e3nn.o3.Irreps(\"10x0e + 10x1e + 10x2e\")\n",
    "internal_key_query_irreps = e3nn.o3.Irreps(\"5x0e + 5x1e + 5x2e\")\n",
    "\n",
    "\n",
    "net = Se3EquivariantAttentionMechanism(\n",
    "    feature_irreps=feature_irreps,\n",
    "    geometric_irreps=geometric_irreps,\n",
    "    value_out_irreps=output_irreps,\n",
    "    key_and_query_out_irreps=internal_key_query_irreps,\n",
    "    radial_network_hidden_units=16\n",
    ")\n"
   ],
   "metadata": {
    "collapsed": false
   }
  },
  {
   "cell_type": "code",
   "execution_count": 51,
   "outputs": [],
   "source": [
    "from tests.test_attention_mechanism_equivariance import GraphInputEquivarianceTest\n",
    "\n",
    "alpha = torch.tensor(np.pi/4)\n",
    "beta = torch.tensor(0.)\n",
    "gamma = torch.tensor(0.)"
   ],
   "metadata": {
    "collapsed": false,
    "ExecuteTime": {
     "end_time": "2023-08-07T19:58:47.771970Z",
     "start_time": "2023-08-07T19:58:47.647114100Z"
    }
   }
  },
  {
   "cell_type": "code",
   "execution_count": 52,
   "outputs": [],
   "source": [
    "# For normal inputs\n",
    "embed = torch.nn.Linear(batch.z.shape[1], feature_irreps.dim)\n",
    "features = embed(batch.z.float())\n",
    "edge_harmonics = e3nn.o3.spherical_harmonics(geometric_irreps,\n",
    "                                             batch.relative_positions,\n",
    "                                             normalize=False)\n",
    "\n",
    "output = net.forward(edge_index=batch.edge_index,\n",
    "           features=features,\n",
    "           edge_features=edge_harmonics,\n",
    "           distances=batch.distances,\n",
    "           )\n",
    "\n",
    "rotation_matrix_for_output = output_irreps.D_from_angles(alpha, beta, gamma)\n",
    "rotated_output = output @ rotation_matrix_for_output"
   ],
   "metadata": {
    "collapsed": false,
    "ExecuteTime": {
     "end_time": "2023-08-07T19:58:48.394357700Z",
     "start_time": "2023-08-07T19:58:48.174765800Z"
    }
   }
  },
  {
   "cell_type": "code",
   "execution_count": 53,
   "outputs": [],
   "source": [
    "# For rotated inputs\n",
    "rotated_graph = GraphInputEquivarianceTest.rotate_graph(batch, alpha, beta, gamma)\n",
    "\n",
    "# For normal inputs\n",
    "embed = torch.nn.Linear(rotated_graph.z.shape[1], feature_irreps.dim) # This is already invariant!\n",
    "features_from_rotated = embed(rotated_graph.z.float())\n",
    "\n",
    "rotated_edge_harmonics = e3nn.o3.spherical_harmonics(geometric_irreps,\n",
    "                                                     rotated_graph.relative_positions,\n",
    "                                                     normalize=False\n",
    "                                                     )\n",
    "\n",
    "\n",
    "output_from_rotated = net.forward(\n",
    "           edge_index=rotated_graph.edge_index,\n",
    "           features=features,\n",
    "           edge_features=edge_harmonics,\n",
    "           distances=rotated_graph.distances,\n",
    "           )\n"
   ],
   "metadata": {
    "collapsed": false,
    "ExecuteTime": {
     "end_time": "2023-08-07T19:58:49.675210800Z",
     "start_time": "2023-08-07T19:58:49.531345300Z"
    }
   }
  },
  {
   "cell_type": "code",
   "execution_count": 54,
   "outputs": [
    {
     "data": {
      "text/plain": "tensor(0.5020, grad_fn=<MaxBackward1>)"
     },
     "execution_count": 54,
     "metadata": {},
     "output_type": "execute_result"
    }
   ],
   "source": [
    "(rotated_output - output_from_rotated).abs().max()"
   ],
   "metadata": {
    "collapsed": false,
    "ExecuteTime": {
     "end_time": "2023-08-07T19:58:50.618575700Z",
     "start_time": "2023-08-07T19:58:50.436330500Z"
    }
   }
  },
  {
   "cell_type": "code",
   "execution_count": 43,
   "outputs": [],
   "source": [
    "vv = e3nn.o3.Irreps('1x1e')"
   ],
   "metadata": {
    "collapsed": false,
    "ExecuteTime": {
     "end_time": "2023-08-07T19:54:56.909134300Z",
     "start_time": "2023-08-07T19:54:56.445907500Z"
    }
   }
  },
  {
   "cell_type": "code",
   "execution_count": 49,
   "outputs": [
    {
     "data": {
      "text/plain": "tensor([[ 2.3842e-07,  0.0000e+00,  1.0000e+00],\n        [ 0.0000e+00,  1.0000e+00,  0.0000e+00],\n        [-1.0000e+00,  0.0000e+00,  2.3842e-07]])"
     },
     "execution_count": 49,
     "metadata": {},
     "output_type": "execute_result"
    }
   ],
   "source": [
    "valpha, vbeta, vgamma = torch.tensor(np.pi/2), torch.tensor(0.), torch.tensor(0.)\n",
    "vv.D_from_angles(valpha, vbeta, vgamma)"
   ],
   "metadata": {
    "collapsed": false,
    "ExecuteTime": {
     "end_time": "2023-08-07T19:57:40.962533600Z",
     "start_time": "2023-08-07T19:57:40.765538500Z"
    }
   }
  },
  {
   "cell_type": "code",
   "execution_count": 50,
   "outputs": [
    {
     "data": {
      "text/plain": "tensor([[-4.3711e-08,  0.0000e+00,  1.0000e+00],\n        [ 0.0000e+00,  1.0000e+00,  0.0000e+00],\n        [-1.0000e+00,  0.0000e+00, -4.3711e-08]])"
     },
     "execution_count": 50,
     "metadata": {},
     "output_type": "execute_result"
    }
   ],
   "source": [
    "GraphInputEquivarianceTest.make_3d_rotation_matrix(valpha, vbeta, vgamma)"
   ],
   "metadata": {
    "collapsed": false,
    "ExecuteTime": {
     "end_time": "2023-08-07T19:58:23.298297200Z",
     "start_time": "2023-08-07T19:58:23.182537300Z"
    }
   }
  },
  {
   "cell_type": "code",
   "execution_count": null,
   "outputs": [],
   "source": [],
   "metadata": {
    "collapsed": false
   }
  }
 ],
 "metadata": {
  "kernelspec": {
   "display_name": "Python 3",
   "language": "python",
   "name": "python3"
  },
  "language_info": {
   "codemirror_mode": {
    "name": "ipython",
    "version": 2
   },
   "file_extension": ".py",
   "mimetype": "text/x-python",
   "name": "python",
   "nbconvert_exporter": "python",
   "pygments_lexer": "ipython2",
   "version": "2.7.6"
  }
 },
 "nbformat": 4,
 "nbformat_minor": 0
}

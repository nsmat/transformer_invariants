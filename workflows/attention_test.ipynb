{
 "cells": [
  {
   "cell_type": "code",
   "execution_count": null,
   "outputs": [],
   "source": [
    "%load_ext autoreload\n",
    "%autoreload 2"
   ],
   "metadata": {
    "collapsed": false,
    "is_executing": true
   }
  },
  {
   "cell_type": "code",
   "execution_count": 1,
   "outputs": [],
   "source": [
    "import networkx as nx\n",
    "import torch\n",
    "import torch_geometric as tg\n",
    "\n",
    "from models.attention_network import GraphAttentionNetwork, TestAttentionNetwork\n",
    "from utils.transforms import EuclideanInformationTransform, OneHot\n",
    "\n",
    "import e3nn"
   ],
   "metadata": {
    "collapsed": false
   }
  },
  {
   "cell_type": "markdown",
   "source": [
    "### Let's test the SE3 equivariant version of the GAT"
   ],
   "metadata": {
    "collapsed": false
   }
  },
  {
   "cell_type": "code",
   "execution_count": 54,
   "outputs": [],
   "source": [
    "g = nx.DiGraph()\n",
    "\n",
    "vertices = (0, 1, 2)\n",
    "edges = [(0, 1),\n",
    "         (1, 2),\n",
    "         (2, 0),\n",
    "         ]\n",
    "\n",
    "z = [0, 1, 2, 1]\n",
    "pos = [(0.,   0.,  0.),\n",
    "       (-1., -1., -1.),\n",
    "       (1.,   1.,  1.),\n",
    "       (2.,   2.,  2.),\n",
    "     ]\n",
    "\n",
    "features = {i: {'z': z[i], 'pos': pos[i]} for i in vertices }\n",
    "\n",
    "for v in vertices:\n",
    "    g.add_node(v)\n",
    "\n",
    "for e in edges:\n",
    "    g.add_edge(*e)\n",
    "\n",
    "nx.set_node_attributes(g, features)\n",
    "\n",
    "graph = tg.utils.from_networkx(g)\n",
    "\n",
    "euc_transform = EuclideanInformationTransform()\n",
    "one_hot_transform = OneHot('z', 'z')\n",
    "transform = tg.transforms.Compose([euc_transform, one_hot_transform])\n",
    "\n",
    "graph = transform(graph)\n"
   ],
   "metadata": {
    "collapsed": false
   }
  },
  {
   "cell_type": "code",
   "execution_count": null,
   "outputs": [],
   "source": [
    "test_dataloader = tg.data.DataLoader([graph, graph.clone()], batch_size=1)\n",
    "for batch in test_dataloader:\n",
    "    break"
   ],
   "metadata": {
    "collapsed": false
   }
  },
  {
   "cell_type": "code",
   "execution_count": null,
   "outputs": [],
   "source": [
    "feature_irreps = e3nn.o3.Irreps(\"10x0e + 10x1e + 10x2e\")\n",
    "geometric_irreps = e3nn.o3.Irreps(\"3x0e+3x1e+3x2e\")\n",
    "output_irreps = e3nn.o3.Irreps(\"10x0e + 10x1e + 10x2e\")\n",
    "internal_key_query_irreps = e3nn.o3.Irreps(\"5x0e + 5x1e + 5x2e\")\n",
    "\n",
    "\n",
    "embed = torch.nn.Linear(batch.z.shape[1], feature_irreps.dim)\n",
    "features = embed(batch.z.float())\n",
    "edge_harmonics = e3nn.o3.spherical_harmonics(geometric_irreps,\n",
    "                                             batch.relative_positions,\n",
    "                                             normalize=False)\n",
    "\n"
   ],
   "metadata": {
    "collapsed": false
   }
  },
  {
   "cell_type": "markdown",
   "source": [
    "###"
   ],
   "metadata": {
    "collapsed": false
   }
  },
  {
   "cell_type": "code",
   "execution_count": null,
   "outputs": [],
   "source": [],
   "metadata": {
    "collapsed": false
   }
  }
 ],
 "metadata": {
  "kernelspec": {
   "display_name": "Python 3",
   "language": "python",
   "name": "python3"
  },
  "language_info": {
   "codemirror_mode": {
    "name": "ipython",
    "version": 2
   },
   "file_extension": ".py",
   "mimetype": "text/x-python",
   "name": "python",
   "nbconvert_exporter": "python",
   "pygments_lexer": "ipython2",
   "version": "2.7.6"
  }
 },
 "nbformat": 4,
 "nbformat_minor": 0
}

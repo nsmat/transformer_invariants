{
 "cells": [
  {
   "cell_type": "code",
   "execution_count": 1,
   "outputs": [],
   "source": [
    "%load_ext autoreload\n",
    "%autoreload 2"
   ],
   "metadata": {
    "collapsed": false
   }
  },
  {
   "cell_type": "code",
   "execution_count": 2,
   "outputs": [],
   "source": [
    "import networkx as nx\n",
    "import torch\n",
    "import torch_geometric as tg\n",
    "\n",
    "from models.attention_network import GraphAttentionNetwork, TestAttentionNetwork\n",
    "from utils.transforms import EuclideanInformationTransform, OneHot\n",
    "\n",
    "import e3nn"
   ],
   "metadata": {
    "collapsed": false
   }
  },
  {
   "cell_type": "markdown",
   "source": [
    "#### Create a test for the Attention Mechanism specifically"
   ],
   "metadata": {
    "collapsed": false
   }
  },
  {
   "cell_type": "code",
   "execution_count": 3,
   "outputs": [],
   "source": [
    "def test_K(edge_index, node_features, edge_features):\n",
    "    return edge_features\n",
    "\n",
    "def test_Q(node_features):\n",
    "    return node_features\n",
    "\n",
    "def test_V(edge_index, node_features, edge_features):\n",
    "    return torch.ones(size=(node_features.shape[0], 1))"
   ],
   "metadata": {
    "collapsed": false
   }
  },
  {
   "cell_type": "code",
   "execution_count": 11,
   "outputs": [],
   "source": [
    "self_loop_value = 2.0"
   ],
   "metadata": {
    "collapsed": false,
    "ExecuteTime": {
     "end_time": "2023-08-07T12:37:18.680888Z",
     "start_time": "2023-08-07T12:37:18.548933300Z"
    }
   }
  },
  {
   "cell_type": "code",
   "execution_count": 12,
   "outputs": [],
   "source": [
    "gan = TestAttentionNetwork(test_K, test_Q, test_V, self_loop_attention_value=self_loop_value)"
   ],
   "metadata": {
    "collapsed": false,
    "ExecuteTime": {
     "end_time": "2023-08-07T12:37:18.876048500Z",
     "start_time": "2023-08-07T12:37:18.752567500Z"
    }
   }
  },
  {
   "cell_type": "code",
   "execution_count": 13,
   "outputs": [],
   "source": [
    "g = nx.DiGraph()\n",
    "vertices = (0, 1, 2, 3)\n",
    "edges = [(1, 0),\n",
    "         (2, 0),\n",
    "         (0, 1),\n",
    "         (1, 2),\n",
    "         ]\n",
    "\n",
    "node_features = ([1., 0.],\n",
    "                  [0., 0.],\n",
    "                  [2., 0.],\n",
    "                  [1874., 666.]\n",
    "                  )\n",
    "\n",
    "edge_features = ([1., 0.],\n",
    "                  [0., 1.],\n",
    "                  [1., 1.],\n",
    "                  [1., 0.],\n",
    "                  )\n",
    "\n",
    "node_features = {v: {'node_features': torch.tensor(node_features[i])} for i, v in enumerate(vertices)}\n",
    "edge_features = {e: {'edge_features': torch.tensor(edge_features[i])} for i, e in enumerate(edges)}\n",
    "\n",
    "g = nx.DiGraph()\n",
    "for v in vertices:\n",
    "    g.add_node(v)\n",
    "for e in edges:\n",
    "    g.add_edge(*e)\n",
    "\n",
    "nx.set_node_attributes(g, node_features)\n",
    "nx.set_edge_attributes(g, edge_features)\n",
    "graph = tg.utils.from_networkx(g)"
   ],
   "metadata": {
    "collapsed": false,
    "ExecuteTime": {
     "end_time": "2023-08-07T12:37:20.607456100Z",
     "start_time": "2023-08-07T12:37:20.443003500Z"
    }
   }
  },
  {
   "cell_type": "code",
   "execution_count": 14,
   "outputs": [],
   "source": [
    "test_alphas = gan.compute_alpha(graph.edge_index, graph.edge_features, graph.node_features, self_loop_attention_value=gan.self_loop_attention_value)"
   ],
   "metadata": {
    "collapsed": false,
    "ExecuteTime": {
     "end_time": "2023-08-07T12:37:30.739894900Z",
     "start_time": "2023-08-07T12:37:30.595669600Z"
    }
   }
  },
  {
   "cell_type": "code",
   "execution_count": 15,
   "outputs": [
    {
     "data": {
      "text/plain": "tensor([[2., 1., 0., 0.],\n        [0., 2., 0., 0.],\n        [0., 2., 2., 0.],\n        [0., 0., 0., 2.]])"
     },
     "execution_count": 15,
     "metadata": {},
     "output_type": "execute_result"
    }
   ],
   "source": [
    "test_alphas"
   ],
   "metadata": {
    "collapsed": false,
    "ExecuteTime": {
     "end_time": "2023-08-07T12:37:31.988825600Z",
     "start_time": "2023-08-07T12:37:31.867171400Z"
    }
   }
  },
  {
   "cell_type": "code",
   "execution_count": 17,
   "outputs": [],
   "source": [
    "# Define tests\n",
    "assert (test_alphas[0, :] == torch.tensor([self_loop_value, 1., 0., 0.])).all()\n",
    "assert (test_alphas[1, :] == torch.tensor([0., self_loop_value, 0., 0.])).all() # Has a zero query vector\n",
    "assert (test_alphas.diag() == torch.tensor([self_loop_value]*4)).all() # Filled diagonal elements\n",
    "assert (test_alphas[2, :] == torch.tensor([0.0, 2.0, self_loop_value, 0.])).all() # Only has one neighbour\n",
    "assert (test_alphas[3, :] == torch.tensor([0., 0., 0., self_loop_value])).all() # No neighbours"
   ],
   "metadata": {
    "collapsed": false,
    "ExecuteTime": {
     "end_time": "2023-08-07T12:38:46.447155200Z",
     "start_time": "2023-08-07T12:38:46.291811900Z"
    }
   }
  },
  {
   "cell_type": "code",
   "execution_count": 18,
   "outputs": [
    {
     "data": {
      "text/plain": "tensor([[2.],\n        [3.],\n        [2.],\n        [0.]])"
     },
     "execution_count": 18,
     "metadata": {},
     "output_type": "execute_result"
    }
   ],
   "source": [
    "gan.forward(graph.edge_index,\n",
    "            graph.node_features,\n",
    "            graph.edge_features\n",
    "            )"
   ],
   "metadata": {
    "collapsed": false,
    "ExecuteTime": {
     "end_time": "2023-08-07T12:38:48.230255700Z",
     "start_time": "2023-08-07T12:38:48.079322700Z"
    }
   }
  },
  {
   "cell_type": "code",
   "execution_count": null,
   "outputs": [],
   "source": [
    "test_alphas"
   ],
   "metadata": {
    "collapsed": false
   }
  },
  {
   "cell_type": "markdown",
   "source": [
    "### Create a test to see that everything works end to end"
   ],
   "metadata": {
    "collapsed": false
   }
  },
  {
   "cell_type": "code",
   "execution_count": null,
   "outputs": [],
   "source": [
    "\n",
    "g = nx.DiGraph()\n",
    "\n",
    "vertices = (0, 1, 2, 3)\n",
    "edges = [(0, 1),\n",
    "         (1, 2),\n",
    "         (2, 0),\n",
    "         (2, 3),\n",
    "         (3, 0)\n",
    "         ]\n",
    "z = [0, 1, 2, 1]\n",
    "pos = [(0.,   0.,  0.),\n",
    "       (-1., -1., -1.),\n",
    "       (1.,   1.,  1.),\n",
    "       (2.,   2.,  2.),\n",
    "     ]\n",
    "\n",
    "features = {i: {'z': z[i], 'pos': pos[i]} for i in vertices }\n",
    "\n",
    "for v in vertices:\n",
    "    g.add_node(v)\n",
    "\n",
    "for e in edges:\n",
    "    g.add_edge(*e)\n",
    "\n",
    "nx.set_node_attributes(g, features)\n",
    "\n",
    "graph = tg.utils.from_networkx(g)\n",
    "\n",
    "euc_transform = EuclideanInformationTransform()\n",
    "one_hot_transform = OneHot('z', 'z')\n",
    "transform = tg.transforms.Compose([euc_transform, one_hot_transform])\n",
    "\n",
    "graph = transform(graph)\n"
   ],
   "metadata": {
    "collapsed": false
   }
  },
  {
   "cell_type": "code",
   "execution_count": null,
   "outputs": [],
   "source": [
    "test_dataloader = tg.data.DataLoader([graph, graph.clone()], batch_size=1)\n",
    "for batch in test_dataloader:\n",
    "    break"
   ],
   "metadata": {
    "collapsed": false
   }
  },
  {
   "cell_type": "code",
   "execution_count": null,
   "outputs": [],
   "source": [
    "feature_irreps = e3nn.o3.Irreps(\"10x0e + 10x1e + 10x2e\")\n",
    "geometric_irreps = e3nn.o3.Irreps(\"3x0e+3x1e+3x2e\")\n",
    "output_irreps = e3nn.o3.Irreps(\"10x0e + 10x1e + 10x2e\")\n",
    "internal_key_query_irreps = e3nn.o3.Irreps(\"5x0e + 5x1e + 5x2e\")\n",
    "\n",
    "K = RadiallyParamaterisedTensorProduct(feature_irreps,\n",
    "                                      geometric_irreps,\n",
    "                                      internal_key_query_irreps,\n",
    "                                      radial_hidden_units=16\n",
    "                                      )\n",
    "Q = QueryNetwork(feature_irreps,\n",
    "                 internal_key_query_irreps)\n",
    "\n",
    "V = RadiallyParamaterisedTensorProduct(feature_irreps,\n",
    "                                       geometric_irreps,\n",
    "                                       output_irreps,\n",
    "                                       radial_hidden_units=16)\n",
    "\n",
    "\n",
    "embed = torch.nn.Linear(batch.z.shape[1], feature_irreps.dim)\n",
    "features = embed(batch.z.float())\n",
    "edge_harmonics = e3nn.o3.spherical_harmonics(geometric_irreps,\n",
    "                                             batch.relative_positions,\n",
    "                                             normalize=False)\n",
    "\n",
    "tt = ToyTransformer(Q=Q, K=K, V=V)\n",
    "\n"
   ],
   "metadata": {
    "collapsed": false
   }
  },
  {
   "cell_type": "code",
   "execution_count": null,
   "outputs": [],
   "source": [
    "# Code to derive the edge features\n",
    "weights = K.radial_net(batch.distances)\n",
    "source_indices = batch.edge_index[0, :]\n",
    "source_features = features[source_indices]\n",
    "\n",
    "k_uv = K.tensor_product(source_features,\n",
    "                 edge_harmonics,\n",
    "                 weights)"
   ],
   "metadata": {
    "collapsed": false
   }
  },
  {
   "cell_type": "code",
   "execution_count": null,
   "outputs": [],
   "source": [
    "(K(source_features, edge_harmonics, batch.distances) == k_uv).all()"
   ],
   "metadata": {
    "collapsed": false
   }
  },
  {
   "cell_type": "code",
   "execution_count": null,
   "outputs": [],
   "source": [
    "# One row for each node\n",
    "q = Q.forward(features)\n",
    "print(q.shape) # a query vector for each node)"
   ],
   "metadata": {
    "collapsed": false
   }
  },
  {
   "cell_type": "markdown",
   "source": [
    "###"
   ],
   "metadata": {
    "collapsed": false
   }
  },
  {
   "cell_type": "code",
   "execution_count": null,
   "outputs": [],
   "source": [
    "k_uv.shape # A key vector for each edge"
   ],
   "metadata": {
    "collapsed": false
   }
  },
  {
   "cell_type": "code",
   "execution_count": null,
   "outputs": [],
   "source": [
    "dots = q @ k_uv.T # Matrix multiplication gives us a number of nodes * number of edges matrix\n",
    "                  # This isn't actually ideal because you waste a few computations"
   ],
   "metadata": {
    "collapsed": false
   }
  },
  {
   "cell_type": "code",
   "execution_count": null,
   "outputs": [],
   "source": [
    "k_uv.shape"
   ],
   "metadata": {
    "collapsed": false
   }
  },
  {
   "cell_type": "code",
   "execution_count": null,
   "outputs": [],
   "source": [
    "targets = batch.edge_index[1, :]\n",
    "targets"
   ],
   "metadata": {
    "collapsed": false
   }
  },
  {
   "cell_type": "code",
   "execution_count": null,
   "outputs": [],
   "source": [
    "k_uv.shape"
   ],
   "metadata": {
    "collapsed": false
   }
  },
  {
   "cell_type": "code",
   "execution_count": null,
   "outputs": [],
   "source": [
    "edge_index = batch.edge_index\n",
    "\n",
    "alphas = torch.zeros((dots.shape[0], dots.shape[0]))\n",
    "for node in range(dots.shape[0]): # iterate through the nodes\n",
    "    # This gets the indices of the\n",
    "    neighbourhood_edge_indices = (edge_index[1,:] == node).nonzero() # Finds the indices of the edges for which this node is a target.\n",
    "    neighbourhood_edge_indices = neighbourhood_edge_indices.flatten()\n",
    "\n",
    "    neighbourhood_k = k_uv[neighbourhood_edge_indices, :] # Get all k in this neighbourhood\n",
    "    q_node = q[node]\n",
    "\n",
    "    neighbourhood_dot = q_node @ neighbourhood_k.T # Matrix multiplication\n",
    "    neighbourhood_alphas = torch.nn.functional.softmax(neighbourhood_dot, dim=0)\n",
    "\n",
    "    # Now, use the edges to store the alphas at the correct points\n",
    "    neighbourhood_edges = edge_index[:, neighbourhood_edge_indices]\n",
    "    source_nodes = neighbourhood_edges[0, :]\n",
    "    alphas[node, source_nodes] = neighbourhood_alphas\n",
    "\n",
    "# Finally, we force an attention coefficient from each node to itself\n",
    "diagonal_indices = torch.arange(0, alphas.shape[0])\n",
    "alphas[diagonal_indices, diagonal_indices] = 1."
   ],
   "metadata": {
    "collapsed": false
   }
  },
  {
   "cell_type": "code",
   "execution_count": null,
   "outputs": [],
   "source": [
    "alphas"
   ],
   "metadata": {
    "collapsed": false
   }
  },
  {
   "cell_type": "code",
   "execution_count": null,
   "outputs": [],
   "source": [
    "torch.nn.functional.softmax(neighbourhood_dot, dim=0)"
   ],
   "metadata": {
    "collapsed": false
   }
  },
  {
   "cell_type": "code",
   "execution_count": null,
   "outputs": [],
   "source": [
    "diagonal_indices = torch.arange(0, )"
   ],
   "metadata": {
    "collapsed": false
   }
  },
  {
   "cell_type": "code",
   "execution_count": null,
   "outputs": [],
   "source": [
    "alphas"
   ],
   "metadata": {
    "collapsed": false
   }
  },
  {
   "cell_type": "code",
   "execution_count": null,
   "outputs": [],
   "source": [
    "q_node.shape"
   ],
   "metadata": {
    "collapsed": false
   }
  },
  {
   "cell_type": "code",
   "execution_count": null,
   "outputs": [],
   "source": [
    "neighbourhood_edge_indices"
   ],
   "metadata": {
    "collapsed": false
   }
  },
  {
   "cell_type": "code",
   "execution_count": null,
   "outputs": [],
   "source": [
    "neighbourhood_edges"
   ],
   "metadata": {
    "collapsed": false
   }
  },
  {
   "cell_type": "code",
   "execution_count": null,
   "outputs": [],
   "source": [
    "alphas = torch.zeros((dots.shape[0], dots.shape[0]))"
   ],
   "metadata": {
    "collapsed": false
   }
  },
  {
   "cell_type": "code",
   "execution_count": null,
   "outputs": [],
   "source": [
    "alphas[neighbourhood_edges[1, :], neighbourhood_edges[0, :]] = 1.0"
   ],
   "metadata": {
    "collapsed": false
   }
  },
  {
   "cell_type": "code",
   "execution_count": null,
   "outputs": [],
   "source": [
    "alphas"
   ],
   "metadata": {
    "collapsed": false
   }
  },
  {
   "cell_type": "code",
   "execution_count": null,
   "outputs": [],
   "source": [
    "# Need to fill these in POST softmax\n",
    "alpha = torch.zeros((q.shape[0], q.shape[0]))\n"
   ],
   "metadata": {
    "collapsed": false
   }
  },
  {
   "cell_type": "code",
   "execution_count": null,
   "outputs": [],
   "source": [
    "\n"
   ],
   "metadata": {
    "collapsed": false
   }
  },
  {
   "cell_type": "code",
   "execution_count": null,
   "outputs": [],
   "source": [
    "for source, target in batch.edge_index.T:\n",
    "    alpha[target, source] = dots"
   ],
   "metadata": {
    "collapsed": false
   }
  },
  {
   "cell_type": "code",
   "execution_count": null,
   "outputs": [],
   "source": [
    "batch.edge_index"
   ],
   "metadata": {
    "collapsed": false
   }
  },
  {
   "cell_type": "code",
   "execution_count": null,
   "outputs": [],
   "source": [],
   "metadata": {
    "collapsed": false
   }
  }
 ],
 "metadata": {
  "kernelspec": {
   "display_name": "Python 3",
   "language": "python",
   "name": "python3"
  },
  "language_info": {
   "codemirror_mode": {
    "name": "ipython",
    "version": 2
   },
   "file_extension": ".py",
   "mimetype": "text/x-python",
   "name": "python",
   "nbconvert_exporter": "python",
   "pygments_lexer": "ipython2",
   "version": "2.7.6"
  }
 },
 "nbformat": 4,
 "nbformat_minor": 0
}

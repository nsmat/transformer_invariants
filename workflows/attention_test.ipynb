{
 "cells": [
  {
   "cell_type": "code",
   "execution_count": 1,
   "outputs": [],
   "source": [
    "%load_ext autoreload\n",
    "%autoreload 2"
   ],
   "metadata": {
    "collapsed": false,
    "ExecuteTime": {
     "end_time": "2023-08-08T09:13:45.112799400Z",
     "start_time": "2023-08-08T09:13:45.053412700Z"
    }
   }
  },
  {
   "cell_type": "code",
   "execution_count": 2,
   "outputs": [],
   "source": [
    "import networkx as nx\n",
    "import torch\n",
    "import torch_geometric as tg\n",
    "import numpy as np\n",
    "\n",
    "from utils.transforms import EuclideanInformationTransform, OneHot\n",
    "from  models.se3_attention_mechanisms import Se3EquivariantAttentionMechanism\n",
    "\n",
    "import e3nn"
   ],
   "metadata": {
    "collapsed": false,
    "ExecuteTime": {
     "end_time": "2023-08-08T09:13:50.212770Z",
     "start_time": "2023-08-08T09:13:45.115797Z"
    }
   }
  },
  {
   "cell_type": "markdown",
   "source": [
    "### Let's test the SE3 equivariant version of the GAT"
   ],
   "metadata": {
    "collapsed": false
   }
  },
  {
   "cell_type": "code",
   "execution_count": 3,
   "outputs": [],
   "source": [
    "g = nx.DiGraph()\n",
    "\n",
    "vertices = (0, 1, 2)\n",
    "edges = [(0, 1),\n",
    "         (1, 0),\n",
    "         (1, 2),\n",
    "         (2, 0),\n",
    "         ]\n",
    "\n",
    "z = [0, 1, 2,]\n",
    "pos = [(0.,   0.,  0.),\n",
    "       (-1., -1., -1.),\n",
    "       (1.,   1.,  1.),\n",
    "     ]\n",
    "\n",
    "features = {i: {'z': z[i], 'pos': pos[i]} for i in vertices }\n",
    "\n",
    "for v in vertices:\n",
    "    g.add_node(v)\n",
    "\n",
    "for e in edges:\n",
    "    g.add_edge(*e)\n",
    "\n",
    "nx.set_node_attributes(g, features)\n",
    "\n",
    "graph = tg.utils.from_networkx(g)\n",
    "\n",
    "euc_transform = EuclideanInformationTransform()\n",
    "one_hot_transform = OneHot('z', 'z')\n",
    "transform = tg.transforms.Compose([euc_transform, one_hot_transform])\n",
    "\n",
    "graph = transform(graph)\n"
   ],
   "metadata": {
    "collapsed": false,
    "ExecuteTime": {
     "end_time": "2023-08-08T09:13:50.428091300Z",
     "start_time": "2023-08-08T09:13:50.217770600Z"
    }
   }
  },
  {
   "cell_type": "code",
   "execution_count": 4,
   "outputs": [
    {
     "name": "stderr",
     "output_type": "stream",
     "text": [
      "C:\\Users\\niksm\\Documents\\CodeForUni\\venvs\\transformer_invariants\\lib\\site-packages\\torch_geometric\\deprecation.py:22: UserWarning: 'data.DataLoader' is deprecated, use 'loader.DataLoader' instead\n",
      "  warnings.warn(out)\n"
     ]
    }
   ],
   "source": [
    "test_dataloader = tg.data.DataLoader([graph, graph.clone()], batch_size=1)\n",
    "for batch in test_dataloader:\n",
    "    break"
   ],
   "metadata": {
    "collapsed": false,
    "ExecuteTime": {
     "end_time": "2023-08-08T09:13:50.574611500Z",
     "start_time": "2023-08-08T09:13:50.433091800Z"
    }
   }
  },
  {
   "cell_type": "code",
   "execution_count": 24,
   "outputs": [],
   "source": [
    "feature_irreps = e3nn.o3.Irreps(\"5x0e\")\n",
    "geometric_irreps = e3nn.o3.Irreps(\"3x0e+3x1e\")\n",
    "output_irreps = e3nn.o3.Irreps(\"10x0e + 10x1e\")\n",
    "internal_key_query_irreps = e3nn.o3.Irreps(\"5x0e+5x1e\")\n",
    "\n",
    "\n",
    "net = Se3EquivariantAttentionMechanism(\n",
    "    feature_irreps=feature_irreps,\n",
    "    geometric_irreps=geometric_irreps,\n",
    "    value_out_irreps=output_irreps,\n",
    "    key_and_query_out_irreps=internal_key_query_irreps,\n",
    "    radial_network_hidden_units=16\n",
    ")\n"
   ],
   "metadata": {
    "collapsed": false,
    "ExecuteTime": {
     "end_time": "2023-08-08T11:22:46.978619200Z",
     "start_time": "2023-08-08T11:22:46.635806900Z"
    }
   }
  },
  {
   "cell_type": "code",
   "execution_count": 25,
   "outputs": [],
   "source": [
    "from tests.test_attention_mechanism_equivariance import GraphInputEquivarianceTest\n",
    "alpha, beta, gamma = e3nn.o3.rand_angles(1)"
   ],
   "metadata": {
    "collapsed": false,
    "ExecuteTime": {
     "end_time": "2023-08-08T11:22:47.104393500Z",
     "start_time": "2023-08-08T11:22:46.981617900Z"
    }
   }
  },
  {
   "cell_type": "code",
   "execution_count": 26,
   "outputs": [],
   "source": [
    "# For normal inputs\n",
    "embed = torch.nn.Linear(batch.z.shape[1], feature_irreps.dim)\n",
    "features = embed(batch.z.float())\n",
    "edge_harmonics = e3nn.o3.spherical_harmonics(geometric_irreps,\n",
    "                                             batch.relative_positions,\n",
    "                                             normalize=False\n",
    "                                             )\n",
    "\n",
    "output = net.forward(edge_index=batch.edge_index,\n",
    "           features=features,\n",
    "           edge_features=edge_harmonics,\n",
    "           distances=batch.distances,\n",
    "           )\n",
    "\n",
    "rotation_matrix_for_output = output_irreps.D_from_angles(alpha, beta, gamma)\n",
    "rotated_output = output @ rotation_matrix_for_output"
   ],
   "metadata": {
    "collapsed": false,
    "ExecuteTime": {
     "end_time": "2023-08-08T11:22:47.582473800Z",
     "start_time": "2023-08-08T11:22:47.392524800Z"
    }
   }
  },
  {
   "cell_type": "code",
   "execution_count": 32,
   "outputs": [],
   "source": [
    "# Alternative way of getting the rotated harmonics\n",
    "edge_harmonic_rotater = geometric_irreps.D_from_angles(alpha, beta, gamma).squeeze(0)\n",
    "rotated_edge_harmonics =  edge_harmonics @ edge_harmonic_rotater\n",
    "\n",
    "feature_rotater = feature_irreps.D_from_angles(alpha, beta, gamma).squeeze(0)\n",
    "rotated_features = features @ feature_rotater\n",
    "\n",
    "output_from_rotated = net.forward(\n",
    "           edge_index=batch.edge_index,\n",
    "           features=features,\n",
    "           edge_features=rotated_edge_harmonics,\n",
    "           distances=batch.distances,\n",
    "           )\n"
   ],
   "metadata": {
    "collapsed": false,
    "ExecuteTime": {
     "end_time": "2023-08-08T11:23:19.639662400Z",
     "start_time": "2023-08-08T11:23:19.427682300Z"
    }
   }
  },
  {
   "cell_type": "code",
   "execution_count": 33,
   "outputs": [
    {
     "data": {
      "text/plain": "tensor(1.4901e-08, grad_fn=<MaxBackward1>)"
     },
     "execution_count": 33,
     "metadata": {},
     "output_type": "execute_result"
    }
   ],
   "source": [
    "(rotated_output - output_from_rotated).max()"
   ],
   "metadata": {
    "collapsed": false,
    "ExecuteTime": {
     "end_time": "2023-08-08T11:23:21.060925Z",
     "start_time": "2023-08-08T11:23:20.949854400Z"
    }
   }
  },
  {
   "cell_type": "code",
   "execution_count": 30,
   "outputs": [
    {
     "data": {
      "text/plain": "tensor(0., grad_fn=<MaxBackward1>)"
     },
     "execution_count": 30,
     "metadata": {},
     "output_type": "execute_result"
    }
   ],
   "source": [
    "(features - rotated_features).max()"
   ],
   "metadata": {
    "collapsed": false,
    "ExecuteTime": {
     "end_time": "2023-08-08T11:23:01.304659100Z",
     "start_time": "2023-08-08T11:23:01.209572600Z"
    }
   }
  },
  {
   "cell_type": "code",
   "execution_count": null,
   "outputs": [],
   "source": [],
   "metadata": {
    "collapsed": false
   }
  }
 ],
 "metadata": {
  "kernelspec": {
   "display_name": "Python 3",
   "language": "python",
   "name": "python3"
  },
  "language_info": {
   "codemirror_mode": {
    "name": "ipython",
    "version": 2
   },
   "file_extension": ".py",
   "mimetype": "text/x-python",
   "name": "python",
   "nbconvert_exporter": "python",
   "pygments_lexer": "ipython2",
   "version": "2.7.6"
  }
 },
 "nbformat": 4,
 "nbformat_minor": 0
}

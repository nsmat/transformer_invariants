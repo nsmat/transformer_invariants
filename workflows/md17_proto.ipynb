{
 "cells": [
  {
   "cell_type": "code",
   "execution_count": 12,
   "metadata": {},
   "outputs": [],
   "source": [
    "from torch_geometric.datasets import MD17\n",
    "import torch_geometric.transforms as tg_transforms\n",
    "\n",
    "\n",
    "import e3nn\n",
    "import numpy as np\n",
    "import pandas as pd\n",
    "\n",
    "import matplotlib.pyplot as plt\n",
    "import torch"
   ]
  },
  {
   "cell_type": "code",
   "execution_count": 13,
   "metadata": {},
   "outputs": [],
   "source": [
    "import plotly.io as pio\n",
    "pio.renderers.default = \"notebook\""
   ]
  },
  {
   "cell_type": "code",
   "execution_count": 14,
   "metadata": {},
   "outputs": [],
   "source": [
    "radius = 3 # TODO check this is a reasonable value\n",
    "\n",
    "class OneHotTransform(tg_transforms.BaseTransform):\n",
    "    def __call__(self, graph):\n",
    "        graph.z = F.one_hot(graph.z).float()\n",
    "        return graph\n",
    "\n",
    "\n",
    "# This adds edges between all nodes that are leq 2 away - otherwise there are no edges\n",
    "radius_transform = tg_transforms.RadiusGraph(r=radius)\n",
    "\n",
    "# The one \n",
    "\n",
    "\n",
    "transforms = tg_transforms.Compose([radius_transform,\n",
    "                                    OneHotTransform(),\n",
    "                                    tg_transforms.Distance()])\n",
    "\n",
    "asp_train = MD17('./../real_datasets/MD17', name='aspirin CCSD', train=True)\n",
    "asp_test = MD17('./../real_datasets/MD17', name='aspirin CCSD', train=False)"
   ]
  },
  {
   "cell_type": "code",
   "execution_count": 15,
   "metadata": {},
   "outputs": [
    {
     "name": "stdout",
     "output_type": "stream",
     "text": [
      "positions: torch.Size([21, 3])\n",
      "energies: torch.Size([1])\n",
      "forces: torch.Size([21, 3])\n",
      "z: tensor([6, 6, 6, 6, 6, 6, 6, 8, 8, 8, 6, 6, 8, 1, 1, 1, 1, 1, 1, 1, 1])\n"
     ]
    }
   ],
   "source": [
    "graph = asp_train[0] # pull a graph object out of the dataset\n",
    "\n",
    "#Each graph has a set of positions (in R3)\n",
    "print(f\"positions: {graph.pos.shape}\")\n",
    "\n",
    "# Some associated scalar energies\n",
    "print(f\"energies: {graph.energy.shape}\")\n",
    "\n",
    "# And associated forces (vectors in R3)\n",
    "print(f\"forces: {graph.force.shape}\")\n",
    "\n",
    "# It also has a categorical variable associated with it 'z', which I think is the elemental identity? Looks right considering\n",
    "# the chemical structure is C_9 H_8 O_4\n",
    "# Should be able to check this in a visualisation.\n",
    "print(f\"z: {graph.z}\")"
   ]
  },
  {
   "cell_type": "code",
   "execution_count": 16,
   "metadata": {},
   "outputs": [],
   "source": [
    "import plotly.graph_objects as go"
   ]
  },
  {
   "cell_type": "code",
   "execution_count": 17,
   "metadata": {},
   "outputs": [
    {
     "data": {
      "text/plain": [
       "e3nn.o3._irreps.Irreps"
      ]
     },
     "execution_count": 17,
     "metadata": {},
     "output_type": "execute_result"
    }
   ],
   "source": [
    "# Irreps objects create a subset of the possible irreps of the group. For example:\n",
    "# The following corresponds to 3 copies (in the sense of direct sums) of each of l=0,1,2 spherical harmonics,\n",
    "# Each of even parity (invariant to reflections)\n",
    "type(e3nn.o3.Irreps(\"3x0e+3x1e+3x2e\"))"
   ]
  },
  {
   "cell_type": "code",
   "execution_count": 18,
   "metadata": {},
   "outputs": [],
   "source": [
    "# Let's start by visualising a graph.\n",
    "# We will initially do this just for the molecules themselves\n",
    "# But eventually I think we want to use this to plot the functions defined on the manifold \n",
    "\n",
    "class Visualiser:\n",
    "\n",
    "    def __init__(self) -> None:\n",
    "        self.group_structure = e3nn.o3\n",
    "        self.s2_grid = self.create_s2_grid()\n",
    "\n",
    "    def create_s2_grid(self, N=100):\n",
    "        \"\"\"N corresponds to a discretization parameter\"\"\"\n",
    "        betas = torch.linspace(0, np.pi, N//2) # angle in vertical plane\n",
    "        alphas = torch.linspace(0, 2 * np.pi, N) # angle in horizontal plane\n",
    "\n",
    "        alphas, betas = torch.meshgrid(alphas, betas)\n",
    "\n",
    "        return e3nn.o3.angles_to_xyz(alphas, betas)\n",
    "\n",
    "    def show_molecule_structure(self, graph):\n",
    "        \n",
    "        fig = go.Figure()\n",
    "        \n",
    "        positions = graph.pos.numpy()\n",
    "        marker = go.Marker(color=graph.z.numpy())\n",
    "        \n",
    "\n",
    "        trace = go.Scatter3d(x = positions[:, 0],\n",
    "                             y= positions[:, 1],\n",
    "                             z = positions[:, 2],\n",
    "                             marker=marker,\n",
    "                             mode='markers')\n",
    "        fig.add_trace(trace)\n",
    "\n",
    "        fig.show()\n",
    "\n",
    "    def show_S2_function(self, graph, s2_function, cmap='RdBu', position_scaler=10):\n",
    "\n",
    "\n",
    "        figure_layout = go.Layout(paper_bgcolor=\"rgba(0,0,0,0)\",\n",
    "                                 plot_bgcolor=\"rgba(0,0,0,0)\",\n",
    "                                 margin=dict(l=0, r=0, t=0, b=0),\n",
    "                                 showlegend=False)\n",
    "        fig = go.Figure(layout=figure_layout)\n",
    "        \n",
    "        # normalise the positions\n",
    "        positions = graph.pos.numpy()\n",
    "        positions -= positions.min()\n",
    "        positions /= positions.max()\n",
    "        positions *= position_scaler\n",
    "\n",
    "        num_nodes = positions.shape[0]\n",
    "\n",
    "        # We plot one surface for each node, essential because each node has its own surface color map\n",
    "        for node_id in range(num_nodes):\n",
    "            x = (s2_function[node_id].abs()*self.s2_grid)[..., 0]+ positions[node_id,  0]\n",
    "            y = (s2_function[node_id].abs()*self.s2_grid)[..., 1]+ positions[node_id,  1]\n",
    "            z = (s2_function[node_id].abs()*self.s2_grid)[..., 2]+ positions[node_id,  2]\n",
    "            surface = go.Surface(x=x,\n",
    "                                 y=y,\n",
    "                                 z=z,\n",
    "                                 surfacecolor=s2_function,\n",
    "                                #  colorscale=cmap,\n",
    "                                #  cmin=0,\n",
    "                                #  cmax=1,\n",
    "                                 )\n",
    "            fig.add_trace(surface)\n",
    "            break\n",
    "\n",
    "        fig.show()\n",
    "\n",
    "\n"
   ]
  },
  {
   "cell_type": "code",
   "execution_count": 25,
   "metadata": {},
   "outputs": [
    {
     "name": "stderr",
     "output_type": "stream",
     "text": [
      "c:\\Users\\niksm\\Documents\\CodeForUni\\venvs\\transformer_invariants\\lib\\site-packages\\plotly\\graph_objs\\_deprecations.py:434: DeprecationWarning:\n",
      "\n",
      "plotly.graph_objs.Marker is deprecated.\n",
      "Please replace it with one of the following more specific types\n",
      "  - plotly.graph_objs.scatter.Marker\n",
      "  - plotly.graph_objs.histogram.selected.Marker\n",
      "  - etc.\n",
      "\n",
      "\n"
     ]
    },
    {
     "data": {
      "text/html": [
       "<div>                            <div id=\"8c5e36e3-eb30-46c9-8aa6-d443ed7e2b83\" class=\"plotly-graph-div\" style=\"height:525px; width:100%;\"></div>            <script type=\"text/javascript\">                require([\"plotly\"], function(Plotly) {                    window.PLOTLYENV=window.PLOTLYENV || {};                                    if (document.getElementById(\"8c5e36e3-eb30-46c9-8aa6-d443ed7e2b83\")) {                    Plotly.newPlot(                        \"8c5e36e3-eb30-46c9-8aa6-d443ed7e2b83\",                        [{\"marker\":{\"color\":[6,6,6,6,6,6,6,8,8,8,6,6,8,1,1,1,1,1,1,1,1]},\"mode\":\"markers\",\"x\":[7.896084308624268,6.1670732498168945,8.55884838104248,7.613548278808594,1.386758804321289,6.2764482498168945,5.506399154663086,6.337538719177246,2.201878070831299,4.605690002441406,5.701181411743164,2.530158758163452,4.191707611083984,4.583505153656006,8.425743103027344,5.622658729553223,10.0,8.017900466918945,1.7916603088378906,0.0,1.5834271907806396],\"y\":[3.9652280807495117,6.415073871612549,4.6917405128479,5.702409267425537,7.090611934661865,4.511579513549805,5.802657604217529,2.336761236190796,5.732421875,4.539034843444824,3.705751657485962,6.405426979064941,6.82699728012085,3.7100937366485596,2.9340875148773193,7.54472541809082,4.583611011505127,5.908123970031738,8.337421417236328,7.073927402496338,6.47027063369751],\"z\":[4.9598283767700195,3.088566780090332,3.558206081390381,2.499866485595703,6.11290168762207,5.5642852783203125,4.696157455444336,7.386362075805664,3.362154483795166,8.154167175292969,7.1442742347717285,4.704623222351074,5.345152854919434,9.10789680480957,5.700096607208252,2.2500085830688477,3.3705403804779053,1.268336534500122,6.374129772186279,5.749420642852783,7.34782600402832],\"type\":\"scatter3d\"}],                        {\"template\":{\"data\":{\"histogram2dcontour\":[{\"type\":\"histogram2dcontour\",\"colorbar\":{\"outlinewidth\":0,\"ticks\":\"\"},\"colorscale\":[[0.0,\"#0d0887\"],[0.1111111111111111,\"#46039f\"],[0.2222222222222222,\"#7201a8\"],[0.3333333333333333,\"#9c179e\"],[0.4444444444444444,\"#bd3786\"],[0.5555555555555556,\"#d8576b\"],[0.6666666666666666,\"#ed7953\"],[0.7777777777777778,\"#fb9f3a\"],[0.8888888888888888,\"#fdca26\"],[1.0,\"#f0f921\"]]}],\"choropleth\":[{\"type\":\"choropleth\",\"colorbar\":{\"outlinewidth\":0,\"ticks\":\"\"}}],\"histogram2d\":[{\"type\":\"histogram2d\",\"colorbar\":{\"outlinewidth\":0,\"ticks\":\"\"},\"colorscale\":[[0.0,\"#0d0887\"],[0.1111111111111111,\"#46039f\"],[0.2222222222222222,\"#7201a8\"],[0.3333333333333333,\"#9c179e\"],[0.4444444444444444,\"#bd3786\"],[0.5555555555555556,\"#d8576b\"],[0.6666666666666666,\"#ed7953\"],[0.7777777777777778,\"#fb9f3a\"],[0.8888888888888888,\"#fdca26\"],[1.0,\"#f0f921\"]]}],\"heatmap\":[{\"type\":\"heatmap\",\"colorbar\":{\"outlinewidth\":0,\"ticks\":\"\"},\"colorscale\":[[0.0,\"#0d0887\"],[0.1111111111111111,\"#46039f\"],[0.2222222222222222,\"#7201a8\"],[0.3333333333333333,\"#9c179e\"],[0.4444444444444444,\"#bd3786\"],[0.5555555555555556,\"#d8576b\"],[0.6666666666666666,\"#ed7953\"],[0.7777777777777778,\"#fb9f3a\"],[0.8888888888888888,\"#fdca26\"],[1.0,\"#f0f921\"]]}],\"heatmapgl\":[{\"type\":\"heatmapgl\",\"colorbar\":{\"outlinewidth\":0,\"ticks\":\"\"},\"colorscale\":[[0.0,\"#0d0887\"],[0.1111111111111111,\"#46039f\"],[0.2222222222222222,\"#7201a8\"],[0.3333333333333333,\"#9c179e\"],[0.4444444444444444,\"#bd3786\"],[0.5555555555555556,\"#d8576b\"],[0.6666666666666666,\"#ed7953\"],[0.7777777777777778,\"#fb9f3a\"],[0.8888888888888888,\"#fdca26\"],[1.0,\"#f0f921\"]]}],\"contourcarpet\":[{\"type\":\"contourcarpet\",\"colorbar\":{\"outlinewidth\":0,\"ticks\":\"\"}}],\"contour\":[{\"type\":\"contour\",\"colorbar\":{\"outlinewidth\":0,\"ticks\":\"\"},\"colorscale\":[[0.0,\"#0d0887\"],[0.1111111111111111,\"#46039f\"],[0.2222222222222222,\"#7201a8\"],[0.3333333333333333,\"#9c179e\"],[0.4444444444444444,\"#bd3786\"],[0.5555555555555556,\"#d8576b\"],[0.6666666666666666,\"#ed7953\"],[0.7777777777777778,\"#fb9f3a\"],[0.8888888888888888,\"#fdca26\"],[1.0,\"#f0f921\"]]}],\"surface\":[{\"type\":\"surface\",\"colorbar\":{\"outlinewidth\":0,\"ticks\":\"\"},\"colorscale\":[[0.0,\"#0d0887\"],[0.1111111111111111,\"#46039f\"],[0.2222222222222222,\"#7201a8\"],[0.3333333333333333,\"#9c179e\"],[0.4444444444444444,\"#bd3786\"],[0.5555555555555556,\"#d8576b\"],[0.6666666666666666,\"#ed7953\"],[0.7777777777777778,\"#fb9f3a\"],[0.8888888888888888,\"#fdca26\"],[1.0,\"#f0f921\"]]}],\"mesh3d\":[{\"type\":\"mesh3d\",\"colorbar\":{\"outlinewidth\":0,\"ticks\":\"\"}}],\"scatter\":[{\"fillpattern\":{\"fillmode\":\"overlay\",\"size\":10,\"solidity\":0.2},\"type\":\"scatter\"}],\"parcoords\":[{\"type\":\"parcoords\",\"line\":{\"colorbar\":{\"outlinewidth\":0,\"ticks\":\"\"}}}],\"scatterpolargl\":[{\"type\":\"scatterpolargl\",\"marker\":{\"colorbar\":{\"outlinewidth\":0,\"ticks\":\"\"}}}],\"bar\":[{\"error_x\":{\"color\":\"#2a3f5f\"},\"error_y\":{\"color\":\"#2a3f5f\"},\"marker\":{\"line\":{\"color\":\"#E5ECF6\",\"width\":0.5},\"pattern\":{\"fillmode\":\"overlay\",\"size\":10,\"solidity\":0.2}},\"type\":\"bar\"}],\"scattergeo\":[{\"type\":\"scattergeo\",\"marker\":{\"colorbar\":{\"outlinewidth\":0,\"ticks\":\"\"}}}],\"scatterpolar\":[{\"type\":\"scatterpolar\",\"marker\":{\"colorbar\":{\"outlinewidth\":0,\"ticks\":\"\"}}}],\"histogram\":[{\"marker\":{\"pattern\":{\"fillmode\":\"overlay\",\"size\":10,\"solidity\":0.2}},\"type\":\"histogram\"}],\"scattergl\":[{\"type\":\"scattergl\",\"marker\":{\"colorbar\":{\"outlinewidth\":0,\"ticks\":\"\"}}}],\"scatter3d\":[{\"type\":\"scatter3d\",\"line\":{\"colorbar\":{\"outlinewidth\":0,\"ticks\":\"\"}},\"marker\":{\"colorbar\":{\"outlinewidth\":0,\"ticks\":\"\"}}}],\"scattermapbox\":[{\"type\":\"scattermapbox\",\"marker\":{\"colorbar\":{\"outlinewidth\":0,\"ticks\":\"\"}}}],\"scatterternary\":[{\"type\":\"scatterternary\",\"marker\":{\"colorbar\":{\"outlinewidth\":0,\"ticks\":\"\"}}}],\"scattercarpet\":[{\"type\":\"scattercarpet\",\"marker\":{\"colorbar\":{\"outlinewidth\":0,\"ticks\":\"\"}}}],\"carpet\":[{\"aaxis\":{\"endlinecolor\":\"#2a3f5f\",\"gridcolor\":\"white\",\"linecolor\":\"white\",\"minorgridcolor\":\"white\",\"startlinecolor\":\"#2a3f5f\"},\"baxis\":{\"endlinecolor\":\"#2a3f5f\",\"gridcolor\":\"white\",\"linecolor\":\"white\",\"minorgridcolor\":\"white\",\"startlinecolor\":\"#2a3f5f\"},\"type\":\"carpet\"}],\"table\":[{\"cells\":{\"fill\":{\"color\":\"#EBF0F8\"},\"line\":{\"color\":\"white\"}},\"header\":{\"fill\":{\"color\":\"#C8D4E3\"},\"line\":{\"color\":\"white\"}},\"type\":\"table\"}],\"barpolar\":[{\"marker\":{\"line\":{\"color\":\"#E5ECF6\",\"width\":0.5},\"pattern\":{\"fillmode\":\"overlay\",\"size\":10,\"solidity\":0.2}},\"type\":\"barpolar\"}],\"pie\":[{\"automargin\":true,\"type\":\"pie\"}]},\"layout\":{\"autotypenumbers\":\"strict\",\"colorway\":[\"#636efa\",\"#EF553B\",\"#00cc96\",\"#ab63fa\",\"#FFA15A\",\"#19d3f3\",\"#FF6692\",\"#B6E880\",\"#FF97FF\",\"#FECB52\"],\"font\":{\"color\":\"#2a3f5f\"},\"hovermode\":\"closest\",\"hoverlabel\":{\"align\":\"left\"},\"paper_bgcolor\":\"white\",\"plot_bgcolor\":\"#E5ECF6\",\"polar\":{\"bgcolor\":\"#E5ECF6\",\"angularaxis\":{\"gridcolor\":\"white\",\"linecolor\":\"white\",\"ticks\":\"\"},\"radialaxis\":{\"gridcolor\":\"white\",\"linecolor\":\"white\",\"ticks\":\"\"}},\"ternary\":{\"bgcolor\":\"#E5ECF6\",\"aaxis\":{\"gridcolor\":\"white\",\"linecolor\":\"white\",\"ticks\":\"\"},\"baxis\":{\"gridcolor\":\"white\",\"linecolor\":\"white\",\"ticks\":\"\"},\"caxis\":{\"gridcolor\":\"white\",\"linecolor\":\"white\",\"ticks\":\"\"}},\"coloraxis\":{\"colorbar\":{\"outlinewidth\":0,\"ticks\":\"\"}},\"colorscale\":{\"sequential\":[[0.0,\"#0d0887\"],[0.1111111111111111,\"#46039f\"],[0.2222222222222222,\"#7201a8\"],[0.3333333333333333,\"#9c179e\"],[0.4444444444444444,\"#bd3786\"],[0.5555555555555556,\"#d8576b\"],[0.6666666666666666,\"#ed7953\"],[0.7777777777777778,\"#fb9f3a\"],[0.8888888888888888,\"#fdca26\"],[1.0,\"#f0f921\"]],\"sequentialminus\":[[0.0,\"#0d0887\"],[0.1111111111111111,\"#46039f\"],[0.2222222222222222,\"#7201a8\"],[0.3333333333333333,\"#9c179e\"],[0.4444444444444444,\"#bd3786\"],[0.5555555555555556,\"#d8576b\"],[0.6666666666666666,\"#ed7953\"],[0.7777777777777778,\"#fb9f3a\"],[0.8888888888888888,\"#fdca26\"],[1.0,\"#f0f921\"]],\"diverging\":[[0,\"#8e0152\"],[0.1,\"#c51b7d\"],[0.2,\"#de77ae\"],[0.3,\"#f1b6da\"],[0.4,\"#fde0ef\"],[0.5,\"#f7f7f7\"],[0.6,\"#e6f5d0\"],[0.7,\"#b8e186\"],[0.8,\"#7fbc41\"],[0.9,\"#4d9221\"],[1,\"#276419\"]]},\"xaxis\":{\"gridcolor\":\"white\",\"linecolor\":\"white\",\"ticks\":\"\",\"title\":{\"standoff\":15},\"zerolinecolor\":\"white\",\"automargin\":true,\"zerolinewidth\":2},\"yaxis\":{\"gridcolor\":\"white\",\"linecolor\":\"white\",\"ticks\":\"\",\"title\":{\"standoff\":15},\"zerolinecolor\":\"white\",\"automargin\":true,\"zerolinewidth\":2},\"scene\":{\"xaxis\":{\"backgroundcolor\":\"#E5ECF6\",\"gridcolor\":\"white\",\"linecolor\":\"white\",\"showbackground\":true,\"ticks\":\"\",\"zerolinecolor\":\"white\",\"gridwidth\":2},\"yaxis\":{\"backgroundcolor\":\"#E5ECF6\",\"gridcolor\":\"white\",\"linecolor\":\"white\",\"showbackground\":true,\"ticks\":\"\",\"zerolinecolor\":\"white\",\"gridwidth\":2},\"zaxis\":{\"backgroundcolor\":\"#E5ECF6\",\"gridcolor\":\"white\",\"linecolor\":\"white\",\"showbackground\":true,\"ticks\":\"\",\"zerolinecolor\":\"white\",\"gridwidth\":2}},\"shapedefaults\":{\"line\":{\"color\":\"#2a3f5f\"}},\"annotationdefaults\":{\"arrowcolor\":\"#2a3f5f\",\"arrowhead\":0,\"arrowwidth\":1},\"geo\":{\"bgcolor\":\"white\",\"landcolor\":\"#E5ECF6\",\"subunitcolor\":\"white\",\"showland\":true,\"showlakes\":true,\"lakecolor\":\"white\"},\"title\":{\"x\":0.05},\"mapbox\":{\"style\":\"light\"}}}},                        {\"responsive\": true}                    ).then(function(){\n",
       "                            \n",
       "var gd = document.getElementById('8c5e36e3-eb30-46c9-8aa6-d443ed7e2b83');\n",
       "var x = new MutationObserver(function (mutations, observer) {{\n",
       "        var display = window.getComputedStyle(gd).display;\n",
       "        if (!display || display === 'none') {{\n",
       "            console.log([gd, 'removed!']);\n",
       "            Plotly.purge(gd);\n",
       "            observer.disconnect();\n",
       "        }}\n",
       "}});\n",
       "\n",
       "// Listen for the removal of the full notebook cells\n",
       "var notebookContainer = gd.closest('#notebook-container');\n",
       "if (notebookContainer) {{\n",
       "    x.observe(notebookContainer, {childList: true});\n",
       "}}\n",
       "\n",
       "// Listen for the clearing of the current output cell\n",
       "var outputEl = gd.closest('.output');\n",
       "if (outputEl) {{\n",
       "    x.observe(outputEl, {childList: true});\n",
       "}}\n",
       "\n",
       "                        })                };                });            </script>        </div>"
      ]
     },
     "metadata": {},
     "output_type": "display_data"
    }
   ],
   "source": [
    "vis = Visualiser()\n",
    "vis.show_molecule_structure(graph)"
   ]
  },
  {
   "cell_type": "code",
   "execution_count": 20,
   "metadata": {},
   "outputs": [],
   "source": [
    "N = 100\n",
    "betas = torch.linspace(0, np.pi, N//2) # angle in vertical plane\n",
    "alphas = torch.linspace(0, 2 * np.pi, N) # angle in horizontal plane\n",
    "\n",
    "alphas, betas = torch.meshgrid(alphas, betas)\n",
    "f = torch.cos(alphas*2) + torch.sin(betas*2)\n",
    "f = [f for i in range(graph.pos.shape[0])]"
   ]
  },
  {
   "cell_type": "code",
   "execution_count": 21,
   "metadata": {},
   "outputs": [],
   "source": [
    "s2_domain = vis.create_s2_grid()"
   ]
  },
  {
   "cell_type": "markdown",
   "metadata": {},
   "source": [
    "### Creating a transformer network\n"
   ]
  },
  {
   "cell_type": "markdown",
   "metadata": {},
   "source": []
  }
 ],
 "metadata": {
  "kernelspec": {
   "display_name": "transformer_invariants",
   "language": "python",
   "name": "python3"
  },
  "language_info": {
   "codemirror_mode": {
    "name": "ipython",
    "version": 3
   },
   "file_extension": ".py",
   "mimetype": "text/x-python",
   "name": "python",
   "nbconvert_exporter": "python",
   "pygments_lexer": "ipython3",
   "version": "3.9.7"
  },
  "orig_nbformat": 4
 },
 "nbformat": 4,
 "nbformat_minor": 2
}

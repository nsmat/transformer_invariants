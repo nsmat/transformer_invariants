{
 "cells": [
  {
   "cell_type": "code",
   "execution_count": 1,
   "metadata": {},
   "outputs": [],
   "source": [
    "from torch_geometric.datasets import MD17\n",
    "import torch_geometric.transforms as tg_transforms\n",
    "\n",
    "\n",
    "import e3nn\n",
    "import numpy as np\n",
    "import pandas as pd\n",
    "\n",
    "import matplotlib.pyplot as plt"
   ]
  },
  {
   "cell_type": "code",
   "execution_count": 3,
   "metadata": {},
   "outputs": [],
   "source": [
    "radius = 2 # TODO check this is a reasonable value\n",
    "\n",
    "class OneHotTransform(tg_transforms.BaseTransform):\n",
    "    def __call__(self, graph):\n",
    "        graph.z = F.one_hot(graph.z).float()\n",
    "        return graph\n",
    "\n",
    "\n",
    "# This adds edges between all nodes that are leq 2 away - otherwise there are no edges\n",
    "radius_transform = tg_transforms.RadiusGraph(r=radius)\n",
    "\n",
    "# The one \n",
    "\n",
    "\n",
    "transforms = tg_transforms.Compose([radius_transform,\n",
    "                                          OneHotTransform(),\n",
    "                                            tg_transforms.Distance()])\n",
    "\n",
    "asp_train = MD17('./../real_datasets/MD17', name='aspirin CCSD', train=True)\n",
    "asp_test = MD17('./../real_datasets/MD17', name='aspirin CCSD', train=False)"
   ]
  },
  {
   "cell_type": "code",
   "execution_count": 16,
   "metadata": {},
   "outputs": [
    {
     "name": "stdout",
     "output_type": "stream",
     "text": [
      "positions: torch.Size([21, 3])\n",
      "energies: torch.Size([1])\n",
      "forces: torch.Size([21, 3])\n",
      "z: tensor([6, 6, 6, 6, 6, 6, 6, 8, 8, 8, 6, 6, 8, 1, 1, 1, 1, 1, 1, 1, 1])\n"
     ]
    }
   ],
   "source": [
    "graph = asp_train[0] # pull a graph object out of the dataset\n",
    "\n",
    "#Each graph has a set of positions (in R3)\n",
    "print(f\"positions: {graph.pos.shape}\")\n",
    "\n",
    "# Some associated scalar energies\n",
    "print(f\"energies: {graph.energy.shape}\")\n",
    "\n",
    "# And associated forces (vectors in R3)\n",
    "print(f\"forces: {graph.force.shape}\")\n",
    "\n",
    "# It also has a categorical variable associated with it 'z', which I think is the elemental identity? Looks right considering\n",
    "# the chemical structure is C_9 H_8 O_4\n",
    "# Should be able to check this in a visualisation.\n",
    "print(f\"z: {graph.z}\")\n",
    "\n"
   ]
  },
  {
   "cell_type": "code",
   "execution_count": null,
   "metadata": {},
   "outputs": [],
   "source": [
    "class Visualiser:\n",
    "\n",
    "    def __init__(self) -> None:\n",
    "        self.group_structure"
   ]
  }
 ],
 "metadata": {
  "kernelspec": {
   "display_name": "transformer_invariants",
   "language": "python",
   "name": "python3"
  },
  "language_info": {
   "codemirror_mode": {
    "name": "ipython",
    "version": 3
   },
   "file_extension": ".py",
   "mimetype": "text/x-python",
   "name": "python",
   "nbconvert_exporter": "python",
   "pygments_lexer": "ipython3",
   "version": "3.9.7"
  },
  "orig_nbformat": 4
 },
 "nbformat": 4,
 "nbformat_minor": 2
}

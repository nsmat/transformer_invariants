{
 "cells": [
  {
   "cell_type": "code",
   "execution_count": 9,
   "outputs": [],
   "source": [
    "import torch_geometric as tg\n",
    "\n",
    "from models.se3_transformer import Se3EquivariantTransformer\n",
    "from utils.load_md17 import load_md17\n",
    "import e3nn\n",
    "\n",
    "import torch\n",
    "import torch_geometric as tg\n",
    "import pytorch_lightning as pl\n",
    "import torchmetrics\n"
   ],
   "metadata": {
    "collapsed": false,
    "ExecuteTime": {
     "end_time": "2023-08-14T12:10:45.973670400Z",
     "start_time": "2023-08-14T12:10:45.887736800Z"
    }
   }
  },
  {
   "cell_type": "code",
   "execution_count": 74,
   "outputs": [],
   "source": [
    "class MD17TransformerTask(pl.LightningModule):\n",
    "    def __init__(self, model: torch.nn.Module, lr=1e-3, force_loss_weight=500):\n",
    "        super().__init__()\n",
    "        self.model = model\n",
    "        self.lr = lr\n",
    "\n",
    "        self.force_loss_weight = force_loss_weight\n",
    "\n",
    "        self.energy_train_metric = torchmetrics.MeanAbsoluteError()\n",
    "        self.energy_valid_metric = torchmetrics.MeanAbsoluteError()\n",
    "        self.energy_test_metric = torchmetrics.MeanAbsoluteError()\n",
    "        self.force_train_metric = torchmetrics.MeanAbsoluteError()\n",
    "        self.force_valid_metric = torchmetrics.MeanAbsoluteError()\n",
    "        self.force_test_metric = torchmetrics.MeanAbsoluteError()\n",
    "\n",
    "    @staticmethod\n",
    "    def compute_energy_normalisers(dataset):\n",
    "        sum_energies = 0\n",
    "        total_nodes = 0\n",
    "        force_scales = 0\n",
    "\n",
    "        for graph in dataset:\n",
    "            total_nodes += graph.num_nodes\n",
    "            sum_energies += graph.energy\n",
    "            force_scales += torch.linalg.vector_norm(graph.force, dim=1).sum()\n",
    "\n",
    "        mean = sum_energies / total_nodes\n",
    "        std = force_scales/total_nodes\n",
    "\n",
    "        return mean, std\n",
    "\n",
    "    def forward(self, graph):\n",
    "        graph.relative_positions = torch.autograd.Variable(graph.relative_positions, requires_grad=True)\n",
    "        predicted_energy = self.model(graph).sum()\n",
    "        predicted_force = -1 * torch.autograd.grad(predicted_energy,\n",
    "                                                   graph.relative_positions,\n",
    "                                                   # grad_outputs=torch.ones_like(predicted_energy),\n",
    "                                                   create_graph=True,\n",
    "                                                   retain_graph=True,\n",
    "                                                   # allow_unused=True\n",
    "                                                   )\n",
    "\n",
    "        predicted_force = predicted_force[0]\n",
    "        predicted_energy = predicted_energy.squeeze(-1)\n",
    "\n",
    "        return predicted_energy, predicted_force\n",
    "\n",
    "    def energy_and_force_loss(self, graph, energy, force):\n",
    "        energy_loss = torch.nn.functional.mse_loss(energy, graph.energy)\n",
    "        force_loss = torch.nn.functional.mse_loss(force, graph.force)\n",
    "        loss = energy_loss + self.force_loss_weight*force_loss\n",
    "        return loss\n",
    "\n",
    "    def training_step(self, graph):\n",
    "        energy, force = self(graph)\n",
    "        loss = self.energy_and_force_loss(graph, energy, force)\n",
    "        self.energy_train_metric(energy, graph.energy)\n",
    "        self.force_train_metric(force, graph.force)\n",
    "\n",
    "        cur_lr = self.trainer.optimizers[0].param_groups[0][\"lr\"]\n",
    "        self.log(\"lr\", cur_lr, prog_bar=True, on_step=True)\n",
    "        return loss\n",
    "\n",
    "    def on_train_epoch_end(self):\n",
    "        self.log(\"Energy train MAE\", self.energy_train_metric, prog_bar=True)\n",
    "        self.log(\"Force train MAE\", self.force_train_metric, prog_bar=True)\n",
    "\n",
    "    @torch.inference_mode(False)\n",
    "    def validation_step(self, graph, batch_idx):\n",
    "        energy, force = self(graph)\n",
    "        self.energy_valid_metric(energy * self.scale + self.shift, graph.energy)\n",
    "        self.force_valid_metric(force * self.scale, graph.force)\n",
    "\n",
    "    def on_validation_epoch_end(self):\n",
    "        self.log(\"Energy valid MAE\", self.energy_valid_metric, prog_bar=True)\n",
    "        self.log(\"Force valid MAE\", self.force_valid_metric, prog_bar=True)\n",
    "\n",
    "    def test_step(self, graph, batch_idx):\n",
    "        energy, force = self.forward(graph)\n",
    "        self.energy_test_metric(energy, graph.energy)\n",
    "        self.force_test_metric(force, graph.force)\n",
    "\n",
    "    def on_test_epoch_end(self):\n",
    "        self.log(\"Energy test MAE\", self.energy_test_metric, prog_bar=True)\n",
    "        self.log(\"Force test MAE\", self.force_test_metric, prog_bar=True)\n",
    "\n",
    "    def configure_optimizers(self):\n",
    "        optimizer = torch.optim.Adam(self.parameters(), lr=self.lr)\n",
    "\n",
    "        num_steps = self.trainer.estimated_stepping_batches\n",
    "        scheduler = torch.optim.lr_scheduler.CosineAnnealingLR(optimizer, num_steps)\n",
    "\n",
    "        lr_scheduler_config = {\n",
    "            \"scheduler\": scheduler,\n",
    "            \"interval\": \"step\",\n",
    "            \"frequency\": 1,\n",
    "        }\n",
    "        return [optimizer], [lr_scheduler_config]"
   ],
   "metadata": {
    "collapsed": false,
    "ExecuteTime": {
     "end_time": "2023-08-14T13:50:39.335475400Z",
     "start_time": "2023-08-14T13:50:39.318965400Z"
    }
   }
  },
  {
   "cell_type": "code",
   "execution_count": 75,
   "outputs": [],
   "source": [
    "### Prototype workflow"
   ],
   "metadata": {
    "collapsed": false,
    "ExecuteTime": {
     "end_time": "2023-08-14T13:50:39.489842100Z",
     "start_time": "2023-08-14T13:50:39.463224700Z"
    }
   }
  },
  {
   "cell_type": "code",
   "execution_count": 76,
   "outputs": [],
   "source": [
    "\n",
    "model = Se3EquivariantTransformer.construct_from_number_of_channels_and_lmax(num_channels=8,\n",
    "                                                                             l_max=2,\n",
    "                                                                             num_features=9,\n",
    "                                                                             num_attention_layers=4,\n",
    "                                                                             num_attention_heads=4,\n",
    "                                                                             radial_network_hidden_units=32\n",
    "                                                                             )"
   ],
   "metadata": {
    "collapsed": false,
    "ExecuteTime": {
     "end_time": "2023-08-14T13:50:46.672484700Z",
     "start_time": "2023-08-14T13:50:39.625688Z"
    }
   }
  },
  {
   "cell_type": "code",
   "execution_count": 77,
   "outputs": [],
   "source": [
    "batch_size=2\n",
    "radius=2\n",
    "\n",
    "data = load_md17(dataset_name='aspirin CCSD', dataset_dir='../real_datasets', radius=radius)\n",
    "\n",
    "train_dataloader = tg.loader.DataLoader(data['train'], batch_size=batch_size, shuffle=True)\n",
    "validation_dataloader = tg.loader.DataLoader(data['validation'], batch_size=batch_size)\n",
    "test_dataloader = tg.loader.DataLoader(data['test'], batch_size=batch_size)"
   ],
   "metadata": {
    "collapsed": false,
    "ExecuteTime": {
     "end_time": "2023-08-14T13:50:46.728876Z",
     "start_time": "2023-08-14T13:50:46.683767900Z"
    }
   }
  },
  {
   "cell_type": "code",
   "execution_count": 78,
   "outputs": [
    {
     "name": "stderr",
     "output_type": "stream",
     "text": [
      "GPU available: False, used: False\n",
      "TPU available: False, using: 0 TPU cores\n",
      "IPU available: False, using: 0 IPUs\n",
      "HPU available: False, using: 0 HPUs\n"
     ]
    }
   ],
   "source": [
    "trainer = pl.Trainer(max_epochs=1)\n",
    "task = MD17TransformerTask(model)"
   ],
   "metadata": {
    "collapsed": false,
    "ExecuteTime": {
     "end_time": "2023-08-14T13:50:46.885824700Z",
     "start_time": "2023-08-14T13:50:46.744942Z"
    }
   }
  },
  {
   "cell_type": "code",
   "execution_count": 82,
   "outputs": [],
   "source": [
    "check_graph = data['train'][0].clone()\n",
    "aa = model(check_graph).sum()\n",
    "check_graph.relative_positions += 10\n",
    "\n",
    "bb = model(check_graph).sum()\n"
   ],
   "metadata": {
    "collapsed": false,
    "ExecuteTime": {
     "end_time": "2023-08-14T13:51:00.159057200Z",
     "start_time": "2023-08-14T13:50:59.714732500Z"
    }
   }
  },
  {
   "cell_type": "code",
   "execution_count": 83,
   "outputs": [],
   "source": [
    "# trainer.fit(task, train_dataloader, test_dataloader)"
   ],
   "metadata": {
    "collapsed": false,
    "ExecuteTime": {
     "end_time": "2023-08-14T13:51:00.173771300Z",
     "start_time": "2023-08-14T13:51:00.162082700Z"
    }
   }
  },
  {
   "cell_type": "markdown",
   "source": [],
   "metadata": {
    "collapsed": false
   }
  },
  {
   "cell_type": "code",
   "execution_count": null,
   "outputs": [],
   "source": [],
   "metadata": {
    "collapsed": false
   }
  }
 ],
 "metadata": {
  "kernelspec": {
   "display_name": "Python 3",
   "language": "python",
   "name": "python3"
  },
  "language_info": {
   "codemirror_mode": {
    "name": "ipython",
    "version": 2
   },
   "file_extension": ".py",
   "mimetype": "text/x-python",
   "name": "python",
   "nbconvert_exporter": "python",
   "pygments_lexer": "ipython2",
   "version": "2.7.6"
  }
 },
 "nbformat": 4,
 "nbformat_minor": 0
}

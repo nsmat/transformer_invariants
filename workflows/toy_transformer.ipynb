{
 "cells": [
  {
   "cell_type": "code",
   "execution_count": null,
   "metadata": {},
   "outputs": [],
   "source": [
    "import torch\n",
    "import torch.geometric as tg"
   ]
  },
  {
   "cell_type": "code",
   "execution_count": null,
   "metadata": {},
   "outputs": [],
   "source": [
    "class ToyTransformer(tg.nn.MessagePassing):\n",
    "\n",
    "    def __init__(self):\n",
    "        super().__init__(aggr='add')\n",
    "        self.Q = torch.nn.Identity()\n",
    "        self.V = torch.nn.Identity()\n",
    "\n",
    "    def K(self, x, rel_pos):\n",
    "        return x\n",
    "            \n",
    "    def forward(self, edge_index, x, edge_features):\n",
    "        k = self.K(x, edge_features)\n",
    "        q = self.Q(x)\n",
    "        v = self.V(x)\n",
    "\n",
    "        alpha = k @ q.T\n",
    "        # alpha = torch.nn.functional.softmax(alpha, dim=1)\n",
    "        return self.propagate(edge_index, x=x, alpha=alpha, v=v)\n",
    "    \n",
    "\n",
    "    def message(self, alpha, v_j, edge_index):\n",
    "        \"\"\"\n",
    "        Absolutely horrendous - v_j is the value of each message, and it is \n",
    "        actually a tensor as long as there are edges in the graph.\n",
    "        Thus, we need to reference the edge index and reshape alpha into \n",
    "        a shape that reflects the edge structure.\n",
    "        \n",
    "        awful awful awful\n",
    "        \"\"\"\n",
    "\n",
    "        alpha_j = alpha[edge_index[0, :], edge_index[1, :]]\n",
    "        alpha_j = alpha_j.reshape(alpha_j.shape[0], 1)\n",
    "\n",
    "        return alpha_j*v_j \n"
   ]
  },
  {
   "cell_type": "code",
   "execution_count": null,
   "metadata": {},
   "outputs": [],
   "source": [
    "vertices = [1, 2, 3, \n",
    "            ]\n",
    "edges = [(1, 2),\n",
    "         (2, 3),\n",
    "         (3, 1),\n",
    "         ]\n",
    "\n",
    "# edges += [(i, i) for i in vertices]\n",
    "\n",
    "node_attributes = {1: {'x': [1., 0.]},\n",
    "                   2: {'x': [0., 1.,]},\n",
    "                   3: {'x': [1., 1.,]},\n",
    "                #    4: {'x': [2., 2.,]}\n",
    "                   }\n",
    "\n",
    "\n",
    "edge_attributes = {(1, 2): {'rel': [1., 0, 0,]} ,\n",
    "                (2, 3): {'rel': [1., 0, 0]},\n",
    "                (3, 1): {'rel':[1., 0, 0]},\n",
    "                # (2, 4): {'rel':[1., 0, 0]}\n",
    "                }\n",
    "\n",
    "\n",
    "graph = nx.DiGraph()\n",
    "for v in vertices:\n",
    "    graph.add_node(v)\n",
    "\n",
    "graph.add_edges_from(edges)\n",
    "nx.set_node_attributes(graph, node_attributes)\n",
    "nx.set_edge_attributes(graph, edge_attributes)\n",
    "\n",
    "# nx.draw(graph)\n",
    "\n",
    "\n",
    "toy_data = tg.utils.convert.from_networkx(graph)"
   ]
  },
  {
   "cell_type": "code",
   "execution_count": null,
   "metadata": {},
   "outputs": [],
   "source": [
    "tt = ToyTransformer()\n",
    "tt.forward(toy_data.edge_index, toy_data.x, toy_data.rel)\n"
   ]
  }
 ],
 "metadata": {
  "kernelspec": {
   "display_name": "transformer_invariants",
   "language": "python",
   "name": "python3"
  },
  "language_info": {
   "name": "python",
   "version": "3.9.7"
  },
  "orig_nbformat": 4
 },
 "nbformat": 4,
 "nbformat_minor": 2
}

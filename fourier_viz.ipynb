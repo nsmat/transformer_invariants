{
 "cells": [
  {
   "cell_type": "code",
   "execution_count": null,
   "metadata": {
    "collapsed": true
   },
   "outputs": [],
   "source": [
    "import numpy as np\n",
    "import torch\n",
    "import pandas as pd\n",
    "\n",
    "import matplotlib.pyplot as plt\n",
    "\n",
    "from toy_datasets.rotational_dataset import make_dataset\n",
    "from fourier_utils import fourier_transform_point_function, inverse_transform, Complex"
   ]
  },
  {
   "cell_type": "code",
   "execution_count": null,
   "outputs": [],
   "source": [
    "fig, ax = plt.subplots(3, figsize=[12,8], sharex=True)\n",
    "\n",
    "# adjust the main plot to make room for the sliders\n",
    "xs = np.linspace(0, 2*np.pi, 1000)\n",
    "N = 10\n",
    "m = 4\n",
    "\n",
    "init_r, init_theta = 5.0, np.pi/2\n",
    "offset_theta = 1/N*m # shift has to be k-dependent or you are mixing groups\n",
    "\n",
    "# Plot the original function\n",
    "z_orig = Complex(init_r, init_theta)\n",
    "z_hat_orig = fourier_transform_point_function(z_orig, N)\n",
    "z_hat_hat_orig = inverse_transform(z_hat_orig)\n",
    "\n",
    "ax[0].plot(xs, z_hat_hat_orig(xs))\n",
    "ax[0].set_ylabel('Original')\n",
    "\n",
    "# Perform the shift in the original domain.\n",
    "\n",
    "z_shift_in = Complex(init_r, init_theta + offset_theta)\n",
    "z_hat_shift_in = fourier_transform_point_function(z_shift_in, N)\n",
    "z_hat_hat_in = inverse_transform(z_hat_shift_in)\n",
    "\n",
    "ax[1].plot(xs, z_hat_hat_in(xs))\n",
    "ax[1].set_ylabel('Argument shifted: \\n original domain')\n",
    "\n",
    "# Perform the shift in the dual domain.\n",
    "z_hat_shifted_out = z_hat_orig.copy()\n",
    "shifter = np.exp(-1j*offset_theta*z_hat_shifted_out[:, 0]) # Where does this 2 come from??\n",
    "z_hat_shifted_out[:, 1] *= shifter\n",
    "\n",
    "z_hat_hat_shifted_out = inverse_transform(z_hat_shifted_out)\n",
    "ax[2].plot(xs, z_hat_hat_shifted_out(xs))\n",
    "ax[2].set_ylabel('Argument shifted: \\n dual domain')"
   ],
   "metadata": {
    "collapsed": false
   }
  }
 ],
 "metadata": {
  "kernelspec": {
   "display_name": "Python 3",
   "language": "python",
   "name": "python3"
  },
  "language_info": {
   "codemirror_mode": {
    "name": "ipython",
    "version": 2
   },
   "file_extension": ".py",
   "mimetype": "text/x-python",
   "name": "python",
   "nbconvert_exporter": "python",
   "pygments_lexer": "ipython2",
   "version": "2.7.6"
  }
 },
 "nbformat": 4,
 "nbformat_minor": 0
}

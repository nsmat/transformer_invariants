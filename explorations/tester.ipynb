{
 "cells": [
  {
   "cell_type": "markdown",
   "source": [],
   "metadata": {
    "collapsed": false
   }
  },
  {
   "cell_type": "code",
   "execution_count": 1,
   "metadata": {
    "collapsed": true
   },
   "outputs": [],
   "source": [
    "import numpy as np\n",
    "import torch\n",
    "import pandas as pd\n",
    "\n",
    "import matplotlib.pyplot as plt\n",
    "\n",
    "from toy_datasets.rotational_dataset import make_dataset\n",
    "from fourier_utils import fourier_transform_point_function, inverse_transform, Complex"
   ]
  },
  {
   "cell_type": "code",
   "execution_count": 2,
   "outputs": [],
   "source": [
    "dataset = make_dataset(30, 120)"
   ],
   "metadata": {
    "collapsed": false
   }
  },
  {
   "cell_type": "code",
   "execution_count": 3,
   "outputs": [
    {
     "data": {
      "text/plain": "      vertex_id         x         y     theta         h  output_forces  \\\n0             0  0.104180 -0.668324  6.130552 -1.979291      19.146745   \n1             1 -1.708887  0.453158  5.626084  1.792478     -11.831672   \n2             2 -1.249395 -1.273291  1.556247  1.642766     -20.562209   \n3             3 -1.531083 -1.153175  2.038291 -0.691341     -25.997470   \n4             4 -0.318630 -1.100289  0.957461  0.482672       3.949301   \n...         ...       ...       ...       ...       ...            ...   \n3595        115  0.874069  0.293882  0.141910 -2.851216       5.388856   \n3596        116 -1.096148 -1.041422  2.640851  1.264794      11.439627   \n3597        117 -0.321533  0.155805  4.664408  0.855477      17.526319   \n3598        118 -1.240098 -1.515808  2.940352  1.819010       7.136274   \n3599        119 -0.365314  0.463222  3.123370  1.136948      21.905813   \n\n      graph_id  \n0            0  \n1            0  \n2            0  \n3            0  \n4            0  \n...        ...  \n3595        29  \n3596        29  \n3597        29  \n3598        29  \n3599        29  \n\n[3600 rows x 7 columns]",
      "text/html": "<div>\n<style scoped>\n    .dataframe tbody tr th:only-of-type {\n        vertical-align: middle;\n    }\n\n    .dataframe tbody tr th {\n        vertical-align: top;\n    }\n\n    .dataframe thead th {\n        text-align: right;\n    }\n</style>\n<table border=\"1\" class=\"dataframe\">\n  <thead>\n    <tr style=\"text-align: right;\">\n      <th></th>\n      <th>vertex_id</th>\n      <th>x</th>\n      <th>y</th>\n      <th>theta</th>\n      <th>h</th>\n      <th>output_forces</th>\n      <th>graph_id</th>\n    </tr>\n  </thead>\n  <tbody>\n    <tr>\n      <th>0</th>\n      <td>0</td>\n      <td>0.104180</td>\n      <td>-0.668324</td>\n      <td>6.130552</td>\n      <td>-1.979291</td>\n      <td>19.146745</td>\n      <td>0</td>\n    </tr>\n    <tr>\n      <th>1</th>\n      <td>1</td>\n      <td>-1.708887</td>\n      <td>0.453158</td>\n      <td>5.626084</td>\n      <td>1.792478</td>\n      <td>-11.831672</td>\n      <td>0</td>\n    </tr>\n    <tr>\n      <th>2</th>\n      <td>2</td>\n      <td>-1.249395</td>\n      <td>-1.273291</td>\n      <td>1.556247</td>\n      <td>1.642766</td>\n      <td>-20.562209</td>\n      <td>0</td>\n    </tr>\n    <tr>\n      <th>3</th>\n      <td>3</td>\n      <td>-1.531083</td>\n      <td>-1.153175</td>\n      <td>2.038291</td>\n      <td>-0.691341</td>\n      <td>-25.997470</td>\n      <td>0</td>\n    </tr>\n    <tr>\n      <th>4</th>\n      <td>4</td>\n      <td>-0.318630</td>\n      <td>-1.100289</td>\n      <td>0.957461</td>\n      <td>0.482672</td>\n      <td>3.949301</td>\n      <td>0</td>\n    </tr>\n    <tr>\n      <th>...</th>\n      <td>...</td>\n      <td>...</td>\n      <td>...</td>\n      <td>...</td>\n      <td>...</td>\n      <td>...</td>\n      <td>...</td>\n    </tr>\n    <tr>\n      <th>3595</th>\n      <td>115</td>\n      <td>0.874069</td>\n      <td>0.293882</td>\n      <td>0.141910</td>\n      <td>-2.851216</td>\n      <td>5.388856</td>\n      <td>29</td>\n    </tr>\n    <tr>\n      <th>3596</th>\n      <td>116</td>\n      <td>-1.096148</td>\n      <td>-1.041422</td>\n      <td>2.640851</td>\n      <td>1.264794</td>\n      <td>11.439627</td>\n      <td>29</td>\n    </tr>\n    <tr>\n      <th>3597</th>\n      <td>117</td>\n      <td>-0.321533</td>\n      <td>0.155805</td>\n      <td>4.664408</td>\n      <td>0.855477</td>\n      <td>17.526319</td>\n      <td>29</td>\n    </tr>\n    <tr>\n      <th>3598</th>\n      <td>118</td>\n      <td>-1.240098</td>\n      <td>-1.515808</td>\n      <td>2.940352</td>\n      <td>1.819010</td>\n      <td>7.136274</td>\n      <td>29</td>\n    </tr>\n    <tr>\n      <th>3599</th>\n      <td>119</td>\n      <td>-0.365314</td>\n      <td>0.463222</td>\n      <td>3.123370</td>\n      <td>1.136948</td>\n      <td>21.905813</td>\n      <td>29</td>\n    </tr>\n  </tbody>\n</table>\n<p>3600 rows × 7 columns</p>\n</div>"
     },
     "execution_count": 3,
     "metadata": {},
     "output_type": "execute_result"
    }
   ],
   "source": [
    "dataset"
   ],
   "metadata": {
    "collapsed": false
   }
  },
  {
   "cell_type": "markdown",
   "source": [
    "### Define a pipeline for casting the raw data to a steerable space"
   ],
   "metadata": {
    "collapsed": false
   }
  },
  {
   "cell_type": "code",
   "execution_count": 4,
   "outputs": [],
   "source": [
    "fourier_precision = 10"
   ],
   "metadata": {
    "collapsed": false
   }
  },
  {
   "cell_type": "code",
   "execution_count": 5,
   "outputs": [],
   "source": [
    "c_outs = []\n",
    "\n",
    "for row_num, row in enumerate(dataset['theta']):\n",
    "    c = fourier_transform_point_function(1, row, precision=fourier_precision)\n",
    "    data = {}\n",
    "    for i, j in c:\n",
    "        i = int(i.real)\n",
    "        data[f'c_{i}'] = j\n",
    "    c_row = pd.DataFrame(data, index=[row_num])\n",
    "    c_outs.append(c_row)\n",
    "coefficients = pd.concat(c_outs)\n",
    "dataset = dataset.merge(coefficients,\n",
    "                        left_index=True,\n",
    "                        right_index=True\n",
    "                        )"
   ],
   "metadata": {
    "collapsed": false
   }
  },
  {
   "cell_type": "markdown",
   "source": [
    "#### Now define a transformer that works on these"
   ],
   "metadata": {
    "collapsed": false
   }
  },
  {
   "cell_type": "code",
   "execution_count": 7,
   "outputs": [],
   "source": [
    "class MLP(torch.nn.Module):\n",
    "\n",
    "     def __init__(self, input_dim, width, output_dim):\n",
    "        super().__init__()\n",
    "\n",
    "        layers = [\n",
    "            torch.nn.Linear(input_dim, width),\n",
    "            torch.nn.ReLU(),\n",
    "            torch.nn.Linear(width, output_dim)\n",
    "        ]\n",
    "        self.mlp = torch.nn.Sequential(layers)\n",
    "\n",
    "\n",
    "class BaseTransformer(torch.nn.Module):\n",
    "    \"\"\"Abstract class. Need to subclass and replace\n",
    "     the 'invariant computer' method to fix. You also need to \"\"\"\n",
    "\n",
    "    def __init__(self, features_mlp_width, attention_mlp_width, invariant_dimension):\n",
    "        super().__init__()\n",
    "\n",
    "        self.invariant_dimension = invariant_dimension\n",
    "\n",
    "        self.hidden_features_computer = MLP(1, features_mlp_width, 1)\n",
    "        self.attention_coefficients_computer = MLP(self.invariant_dimension, attention_mlp_width, 1) # Should this actually be an MLP??\n",
    "\n",
    "    def forward(self, x, y, theta, input_features):\n",
    "        \"\"\"\n",
    "        :param x:\n",
    "        :return: predicted outputs for every node\n",
    "        \"\"\"\n",
    "\n",
    "        hidden_features = self.hidden_features(input_features)\n",
    "        pairwise_invariants = self.invariant_computer(x, y, theta)\n",
    "        attention = self.attention_coefficients_computer(pairwise_invariants)\n",
    "        outputs = attention @ hidden_features\n",
    "\n",
    "        return outputs\n",
    "\n",
    "    @staticmethod\n",
    "    def invariant_computer(*coords):\n",
    "        raise(NotImplementedError)\n",
    "\n",
    "class DistanceOnlyTransformer(BaseTransformer):\n",
    "    def __init__(self, features_mlp_width, attention_mlp_width):\n",
    "        super().__init__(features_mlp_width, attention_mlp_width, 1)\n",
    "\n",
    "    @staticmethod\n",
    "    def invariant_computer(x, y, theta):\n",
    "        return np.linalg.norm(x - y)\n",
    "\n",
    "class RelativePositionTransformer(BaseTransformer):\n",
    "    def __init__(self, features_mlp_width, attention_mlp_width):\n",
    "        super().__init__(features_mlp_width, attention_mlp_width, 2)\n",
    "\n",
    "    @staticmethod\n",
    "    def invariant_computer(x, y, theta):\n",
    "        return x - y # What to do here! Need to make this invariant/equivariant?\n",
    "\n",
    "class FullTransformer(BaseTransformer):\n",
    "    def __init__(self, features_mlp_width, attention_mlp_width):\n",
    "        super().__init__(features_mlp_width, attention_mlp_width, 3)\n",
    "\n",
    "    @staticmethod\n",
    "    def invariant_computer(x, y, theta):\n",
    "        return x - y\n",
    "\n",
    "\n"
   ],
   "metadata": {
    "collapsed": false
   }
  },
  {
   "cell_type": "markdown",
   "source": [
    "### Need to test the equivariance/invariance properties"
   ],
   "metadata": {
    "collapsed": false
   }
  },
  {
   "cell_type": "code",
   "execution_count": null,
   "outputs": [],
   "source": [],
   "metadata": {
    "collapsed": false
   }
  }
 ],
 "metadata": {
  "kernelspec": {
   "display_name": "Python 3",
   "language": "python",
   "name": "python3"
  },
  "language_info": {
   "codemirror_mode": {
    "name": "ipython",
    "version": 2
   },
   "file_extension": ".py",
   "mimetype": "text/x-python",
   "name": "python",
   "nbconvert_exporter": "python",
   "pygments_lexer": "ipython2",
   "version": "2.7.6"
  }
 },
 "nbformat": 4,
 "nbformat_minor": 0
}
